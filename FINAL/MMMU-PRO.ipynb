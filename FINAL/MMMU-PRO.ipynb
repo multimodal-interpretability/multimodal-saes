{
 "cells": [
  {
   "cell_type": "code",
   "execution_count": 1,
   "id": "a6d9ab20-42ef-4466-8da6-fa483c7dd56f",
   "metadata": {},
   "outputs": [],
   "source": [
    "from datasets import load_dataset\n",
    "\n",
    "ds = load_dataset(\"MMMU/MMMU_Pro\", \"standard (4 options)\")"
   ]
  },
  {
   "cell_type": "code",
   "execution_count": 6,
   "id": "ee0ad03d-64df-4adc-9fc3-597af4b3340d",
   "metadata": {},
   "outputs": [],
   "source": [
    "import numpy as np\n"
   ]
  },
  {
   "cell_type": "code",
   "execution_count": 11,
   "id": "0faf3505-55dd-4f78-89d0-794bed07ebaf",
   "metadata": {},
   "outputs": [
    {
     "data": {
      "text/plain": [
       "array([0.7899797 , 0.71683037, 0.75793135, 0.7624625 , 0.78311372,\n",
       "       0.81509209, 0.76041436, 0.7711916 , 0.760952  , 0.74369168,\n",
       "       0.74976063, 0.73736846, 0.71128845, 0.7736178 , 0.80895245,\n",
       "       0.72482401, 0.72012424, 0.76468861, 0.73078513, 0.69794083,\n",
       "       0.78614026, 0.74732482, 0.7821219 , 0.77348208, 0.80215514,\n",
       "       0.68376565, 0.81789225, 0.78869677, 0.82799679, 0.72874951,\n",
       "       0.75686872, 0.76335907, 0.74688923, 0.76581186, 0.69457018,\n",
       "       0.75932413, 0.75280166, 0.83228242, 0.77225721, 0.73125541,\n",
       "       0.7669363 , 0.73600566, 0.78714502, 0.79112828, 0.82968664,\n",
       "       0.75533324, 0.80180264, 0.79848528, 0.82789254, 0.7397418 ])"
      ]
     },
     "execution_count": 11,
     "metadata": {},
     "output_type": "execute_result"
    }
   ],
   "source": [
    "np.load('steering_approx/layer8/lambda_0.00265914795_reconstruction_dots.npy')"
   ]
  },
  {
   "cell_type": "code",
   "execution_count": 13,
   "id": "50ec8bff-6210-4956-92f1-871402374d9b",
   "metadata": {},
   "outputs": [
    {
     "data": {
      "text/plain": [
       "21.1"
      ]
     },
     "execution_count": 13,
     "metadata": {},
     "output_type": "execute_result"
    }
   ],
   "source": [
    "np.mean(np.load('steering_approx/layer8/lambda_0.00265914795_reconstruction_l0s.npy'))"
   ]
  },
  {
   "cell_type": "code",
   "execution_count": null,
   "id": "cb32a161-c504-4a7b-89e1-4ed67248767c",
   "metadata": {},
   "outputs": [],
   "source": []
  },
  {
   "cell_type": "code",
   "execution_count": 2,
   "id": "faf0a932-8e56-46a4-8277-03049bb2a429",
   "metadata": {},
   "outputs": [
    {
     "name": "stderr",
     "output_type": "stream",
     "text": [
      "2024-12-17 22:25:35.535165: E external/local_xla/xla/stream_executor/cuda/cuda_fft.cc:477] Unable to register cuFFT factory: Attempting to register factory for plugin cuFFT when one has already been registered\n",
      "WARNING: All log messages before absl::InitializeLog() is called are written to STDERR\n",
      "E0000 00:00:1734492336.102351  359124 cuda_dnn.cc:8310] Unable to register cuDNN factory: Attempting to register factory for plugin cuDNN when one has already been registered\n",
      "E0000 00:00:1734492336.245808  359124 cuda_blas.cc:1418] Unable to register cuBLAS factory: Attempting to register factory for plugin cuBLAS when one has already been registered\n",
      "2024-12-17 22:25:37.633505: I tensorflow/core/platform/cpu_feature_guard.cc:210] This TensorFlow binary is optimized to use available CPU instructions in performance-critical operations.\n",
      "To enable the following instructions: AVX2 AVX512F FMA, in other operations, rebuild TensorFlow with the appropriate compiler flags.\n",
      "Some kwargs in processor config are unused and will not have any effect: num_additional_image_tokens. \n"
     ]
    },
    {
     "data": {
      "application/vnd.jupyter.widget-view+json": {
       "model_id": "e922826aaf924a47b8428e58418d27c3",
       "version_major": 2,
       "version_minor": 0
      },
      "text/plain": [
       "Loading checkpoint shards:   0%|          | 0/4 [00:00<?, ?it/s]"
      ]
     },
     "metadata": {},
     "output_type": "display_data"
    },
    {
     "name": "stderr",
     "output_type": "stream",
     "text": [
      "\n",
      "KeyboardInterrupt\n",
      "\n"
     ]
    }
   ],
   "source": [
    "from transformers import LlavaNextProcessor, LlavaNextForConditionalGeneration\n",
    "import torch\n",
    "from PIL import Image\n",
    "import requests\n",
    "torch.set_grad_enabled(False)\n",
    "processor = LlavaNextProcessor.from_pretrained(\"llava-hf/llava-v1.6-mistral-7b-hf\")\n",
    "\n",
    "model = LlavaNextForConditionalGeneration.from_pretrained(\"llava-hf/llava-v1.6-mistral-7b-hf\", torch_dtype=torch.float16, low_cpu_mem_usage=True)\n",
    "model.to(\"cuda:1\")\n"
   ]
  },
  {
   "cell_type": "code",
   "execution_count": 5,
   "id": "87fb9885-24e4-49c2-96cd-61f1cec33f5f",
   "metadata": {},
   "outputs": [
    {
     "data": {
      "text/plain": [
       "Linear(in_features=4096, out_features=14336, bias=False)"
      ]
     },
     "execution_count": 5,
     "metadata": {},
     "output_type": "execute_result"
    }
   ],
   "source": []
  },
  {
   "cell_type": "code",
   "execution_count": null,
   "id": "fa27350c-f965-42a0-be04-708de9682dc0",
   "metadata": {},
   "outputs": [],
   "source": [
    "gpu_index =1\n",
    "training_gpu = 'cuda:1'\n",
    "from baukit import Trace\n",
    "import numpy as np\n",
    "layer = 16\n",
    "import os\n",
    "file = f\"/data/vision/torralba/selfmanaged/torralba/scratch/schwett/meow/SAE_imagetext_layer{layer}_models/\" +os.listdir(f\"/data/vision/torralba/selfmanaged/torralba/scratch/schwett/meow/SAE_imagetext_layer{layer}_models/\")[0]\n",
    "import torch\n",
    "import torch.nn as nn\n",
    "class SAE(nn.Module):\n",
    "    def __init__(self):\n",
    "        super(SAE, self).__init__()\n",
    "        self.fc1 = nn.Linear(4096,int(8*4096),bias=True) \n",
    "        self.relu1 = nn.ReLU()\n",
    "        self.fc2 = nn.Linear(int(8*4096), 4096,bias=True) \n",
    "        self.initialize_weights()\n",
    "    #Biases are initialized to zero, \n",
    "    def initialize_weights(self):\n",
    "        nn.init.zeros_(self.fc1.bias)\n",
    "        nn.init.zeros_(self.fc2.bias)\n",
    "        #fun trick, gaussians in high dimensions are uniform \"soap bubbles\"\n",
    "        W_d = torch.randn(self.fc2.weight.size())\n",
    "        W_d = W_d / W_d.norm(dim=1, keepdim=True) * 0.1  # Adjust 0.1 as needed\n",
    "        self.fc2.weight.data = W_d\n",
    "        self.fc1.weight.data = W_d.t()\n",
    "    def forward(self, x):\n",
    "        features = self.relu1(self.fc1(x))\n",
    "        x_hat = self.fc2(features)\n",
    "        return x_hat,features \n",
    "sae = SAE()\n",
    "sae = nn.DataParallel(sae, device_ids=[gpu_index])\n",
    "sae = sae.cuda(device=gpu_index)\n",
    "sae.load_state_dict(torch.load(file))\n",
    "def forward_ablate(text_input,image,tokens):\n",
    "        intervention = intervene\n",
    "        inp = processor(text_input,image, return_tensors=\"pt\").to(training_gpu)\n",
    "        for i in range(tokens):    \n",
    "            with Trace(model.language_model.model.layers[layer-1],edit_output=intervention) as ret:\n",
    "                out = model(**inp)\n",
    "            logits = out.logits[0][-1]\n",
    "            inp['input_ids'] = torch.tensor(np.array(list(inp.input_ids.detach().cpu().numpy()[0])+[torch.argmax(logits).detach().cpu().numpy()])).unsqueeze(0).to(training_gpu)\n",
    "            inp['attention_mask'] = torch.ones((inp['attention_mask'].size(0),inp['attention_mask'].size(1)+1)).int().to(training_gpu)\n",
    "        return inp['input_ids'][0]\n",
    "    \n",
    "def generate_ablate(input_text,imp_image,num_tokens):\n",
    "    ids = forward_ablate(input_text,imp_image,num_tokens)\n",
    "    return processor.decode(ids,skip_special_tokens=True)\n",
    "\n",
    "def intervene(output):\n",
    "    meow = output[0].squeeze(0).float()\n",
    "    \n",
    "    meow[:1183] = sae(meow[:1183].unsqueeze(0)*8)[0].squeeze(0)/8\n",
    "    return (meow.unsqueeze(0).half(),output[1])"
   ]
  },
  {
   "cell_type": "code",
   "execution_count": 14,
   "id": "87289935-1e8e-4cd2-b26f-ee17fab7b749",
   "metadata": {},
   "outputs": [],
   "source": [
    "from PIL import Image"
   ]
  },
  {
   "cell_type": "code",
   "execution_count": 15,
   "id": "58d05d9a-1d2c-42bb-86c7-e2ffd6f0d9d7",
   "metadata": {},
   "outputs": [
    {
     "data": {
      "image/jpeg": "[encoded data removed]",
      "image/png": "[encoded data removed]",
      "text/plain": [
       "<PIL.PngImagePlugin.PngImageFile image mode=RGB size=276x269>"
      ]
     },
     "execution_count": 15,
     "metadata": {},
     "output_type": "execute_result"
    }
   ],
   "source": [
    "ds['test'][0]['image_1']"
   ]
  },
  {
   "cell_type": "code",
   "execution_count": 16,
   "id": "2da32f6d-af95-43a8-8f7a-ffb8b68a67e9",
   "metadata": {},
   "outputs": [
    {
     "data": {
      "text/plain": [
       "'Which of the following best explains the overall trend shown in the <image 1>?'"
      ]
     },
     "execution_count": 16,
     "metadata": {},
     "output_type": "execute_result"
    }
   ],
   "source": [
    "ds['test'][0]['question']"
   ]
  },
  {
   "cell_type": "code",
   "execution_count": 17,
   "id": "bf5a83bb-b0f4-49e7-81fe-4612a9867b6a",
   "metadata": {},
   "outputs": [
    {
     "data": {
      "text/plain": [
       "\"['Migrations to areas of Central Asia for resettlement', 'The spread of pathogens across the Silk Road', 'Invasions by Mongol tribes', 'Large-scale famine due to crop failures']\""
      ]
     },
     "execution_count": 17,
     "metadata": {},
     "output_type": "execute_result"
    }
   ],
   "source": [
    "ds['test'][0]['options']"
   ]
  },
  {
   "cell_type": "code",
   "execution_count": 18,
   "id": "fe1876be-3b29-496e-8d2b-946fbf29a8ad",
   "metadata": {},
   "outputs": [],
   "source": [
    "import ast"
   ]
  },
  {
   "cell_type": "code",
   "execution_count": 19,
   "id": "1985f986-1220-4fca-a24f-70bbdd29b697",
   "metadata": {},
   "outputs": [],
   "source": [
    "\n",
    "def load_q(i):\n",
    "    q = '[INST] \\<image>\\n'+ds['test'][i]['question'].replace('<image 1>','the image')\n",
    "    options = ast.literal_eval(ds['test'][i]['options'])\n",
    "    letters = ['A','B','C','D','E','F','G','H','I','J','K','L','M','N']\n",
    "    used_letters = []\n",
    "    for j in range(len(options)):\n",
    "        q = q+f\"\\n {letters[j]}: \"+options[j]\n",
    "        used_letters.append(letters[j])\n",
    "    \n",
    "    q = q + f\"\\n Please Answer only answer with one of {used_letters}. Do not provide any explanation. [/INST]\"\n",
    "    images = []\n",
    "    for j in range(1,8):\n",
    "        if ds['test'][i]['image_'+str(j)] is not None:\n",
    "            images.append(ds['test'][i]['image_'+str(j)])\n",
    "    return q,images[0].resize((336,336)), ds['test'][i]['answer'], len(options)"
   ]
  },
  {
   "cell_type": "code",
   "execution_count": 20,
   "id": "06dc6b36-f893-439c-8ff1-191abe3c9c7c",
   "metadata": {},
   "outputs": [],
   "source": [
    "import warnings\n",
    "from transformers import logging\n",
    "\n",
    "# Turn off warnings from the transformers library\n",
    "logging.set_verbosity_error()\n",
    "\n",
    "# If you want to suppress all Python warnings, including those from other libraries\n",
    "warnings.filterwarnings('ignore')\n"
   ]
  },
  {
   "cell_type": "code",
   "execution_count": 21,
   "id": "a6825d16-91f9-4b57-a419-f77e3ad91f7c",
   "metadata": {},
   "outputs": [
    {
     "name": "stderr",
     "output_type": "stream",
     "text": [
      "MODEL: 0.322 Chance: 0.2626: 100%|██████████| 1730/1730 [15:02<00:00,  1.92it/s]"
     ]
    },
    {
     "name": "stdout",
     "output_type": "stream",
     "text": [
      "0.3219653179190751\n"
     ]
    },
    {
     "name": "stderr",
     "output_type": "stream",
     "text": [
      "\n"
     ]
    }
   ],
   "source": [
    "from tqdm import tqdm\n",
    "cnt = 0\n",
    "tot = 0\n",
    "chance = 0\n",
    "pbar = tqdm(range(1730))\n",
    "for i in pbar:\n",
    "    try:\n",
    "        prompt, images, answer,num_answers = load_q(i)\n",
    "        \n",
    "        inputs = processor(images, prompt, return_tensors=\"pt\").to(\"cuda:1\")\n",
    "        \n",
    "        output = generate_ablate(prompt,images,1)\n",
    "            \n",
    "        rep = output[-1]\n",
    "        if rep == answer:\n",
    "            cnt+=1\n",
    "            \n",
    "        tot +=1\n",
    "        chance+=1/num_answers\n",
    "        pbar.set_description(\"MODEL: \"+str(round(cnt/tot, 4)) + \" Chance: \"+ str(round(chance/tot, 4)))\n",
    "    except:\n",
    "        print('sadge')\n",
    "    \n",
    "print(cnt/tot)"
   ]
  },
  {
   "cell_type": "code",
   "execution_count": 15,
   "id": "0d48dd84-53c0-4066-b6c1-e29c367d9c43",
   "metadata": {},
   "outputs": [
    {
     "ename": "TypeError",
     "evalue": "'Image' object is not subscriptable",
     "output_type": "error",
     "traceback": [
      "\u001b[0;31m---------------------------------------------------------------------------\u001b[0m",
      "\u001b[0;31mTypeError\u001b[0m                                 Traceback (most recent call last)",
      "Cell \u001b[0;32mIn[15], line 3\u001b[0m\n\u001b[1;32m      1\u001b[0m inputs \u001b[38;5;241m=\u001b[39m processor(images, prompt, return_tensors\u001b[38;5;241m=\u001b[39m\u001b[38;5;124m\"\u001b[39m\u001b[38;5;124mpt\u001b[39m\u001b[38;5;124m\"\u001b[39m)\u001b[38;5;241m.\u001b[39mto(\u001b[38;5;124m\"\u001b[39m\u001b[38;5;124mcuda:1\u001b[39m\u001b[38;5;124m\"\u001b[39m)\n\u001b[0;32m----> 3\u001b[0m output \u001b[38;5;241m=\u001b[39m \u001b[43mgenerate_ablate\u001b[49m\u001b[43m(\u001b[49m\u001b[43mprompt\u001b[49m\u001b[43m,\u001b[49m\u001b[43mimages\u001b[49m\u001b[43m,\u001b[49m\u001b[38;5;241;43m1\u001b[39;49m\u001b[43m)\u001b[49m\n",
      "Cell \u001b[0;32mIn[3], line 46\u001b[0m, in \u001b[0;36mgenerate_ablate\u001b[0;34m(input_text, imp_image, num_tokens)\u001b[0m\n\u001b[1;32m     45\u001b[0m \u001b[38;5;28;01mdef\u001b[39;00m \u001b[38;5;21mgenerate_ablate\u001b[39m(input_text,imp_image,num_tokens):\n\u001b[0;32m---> 46\u001b[0m     ids \u001b[38;5;241m=\u001b[39m \u001b[43mforward_ablate\u001b[49m\u001b[43m(\u001b[49m\u001b[43minput_text\u001b[49m\u001b[43m,\u001b[49m\u001b[43mimp_image\u001b[49m\u001b[43m,\u001b[49m\u001b[43mnum_tokens\u001b[49m\u001b[43m)\u001b[49m\n\u001b[1;32m     47\u001b[0m     \u001b[38;5;28;01mreturn\u001b[39;00m processor\u001b[38;5;241m.\u001b[39mdecode(ids,skip_special_tokens\u001b[38;5;241m=\u001b[39m\u001b[38;5;28;01mTrue\u001b[39;00m)\n",
      "Cell \u001b[0;32mIn[3], line 36\u001b[0m, in \u001b[0;36mforward_ablate\u001b[0;34m(text_input, image, tokens)\u001b[0m\n\u001b[1;32m     34\u001b[0m \u001b[38;5;28;01mdef\u001b[39;00m \u001b[38;5;21mforward_ablate\u001b[39m(text_input,image,tokens):\n\u001b[1;32m     35\u001b[0m         intervention \u001b[38;5;241m=\u001b[39m intervene\n\u001b[0;32m---> 36\u001b[0m         inp \u001b[38;5;241m=\u001b[39m processor(text_input,\u001b[43mimage\u001b[49m\u001b[43m[\u001b[49m\u001b[38;5;241;43m0\u001b[39;49m\u001b[43m]\u001b[49m\u001b[38;5;241m.\u001b[39mresize((\u001b[38;5;241m336\u001b[39m,\u001b[38;5;241m336\u001b[39m)), return_tensors\u001b[38;5;241m=\u001b[39m\u001b[38;5;124m\"\u001b[39m\u001b[38;5;124mpt\u001b[39m\u001b[38;5;124m\"\u001b[39m)\u001b[38;5;241m.\u001b[39mto(training_gpu)\n\u001b[1;32m     37\u001b[0m         \u001b[38;5;28;01mfor\u001b[39;00m i \u001b[38;5;129;01min\u001b[39;00m \u001b[38;5;28mrange\u001b[39m(tokens):    \n\u001b[1;32m     38\u001b[0m             \u001b[38;5;28;01mwith\u001b[39;00m Trace(model\u001b[38;5;241m.\u001b[39mlanguage_model\u001b[38;5;241m.\u001b[39mmodel\u001b[38;5;241m.\u001b[39mlayers[layer\u001b[38;5;241m-\u001b[39m\u001b[38;5;241m1\u001b[39m],edit_output\u001b[38;5;241m=\u001b[39mintervention) \u001b[38;5;28;01mas\u001b[39;00m ret:\n",
      "\u001b[0;31mTypeError\u001b[0m: 'Image' object is not subscriptable"
     ]
    }
   ],
   "source": [
    "inputs = processor(images, prompt, return_tensors=\"pt\").to(\"cuda:1\")\n",
    "        \n",
    "output = generate_ablate(prompt,images,1)"
   ]
  },
  {
   "cell_type": "code",
   "execution_count": 123,
   "id": "0b621d45-a322-458f-9d1a-7154346c28be",
   "metadata": {},
   "outputs": [
    {
     "data": {
      "image/jpeg": "[encoded data removed]",
      "image/png": "[encoded data removed]",
      "text/plain": [
       "<PIL.PngImagePlugin.PngImageFile image mode=L size=554x178>"
      ]
     },
     "execution_count": 123,
     "metadata": {},
     "output_type": "execute_result"
    }
   ],
   "source": [
    "load_q(1089)[1][0]"
   ]
  },
  {
   "cell_type": "code",
   "execution_count": 76,
   "id": "909b8598-32f5-4094-b6bd-4dec23f35b02",
   "metadata": {},
   "outputs": [],
   "source": [
    "processor.pad_token_id=None"
   ]
  },
  {
   "cell_type": "code",
   "execution_count": null,
   "id": "e6c54b33-a4d1-4ffc-a80f-045c61018cfe",
   "metadata": {},
   "outputs": [],
   "source": [
    "options"
   ]
  },
  {
   "cell_type": "code",
   "execution_count": 58,
   "id": "556e9996-6645-443b-8500-8ea5bf40ae63",
   "metadata": {},
   "outputs": [
    {
     "data": {
      "text/plain": [
       "'Visual elements'"
      ]
     },
     "execution_count": 58,
     "metadata": {},
     "output_type": "execute_result"
    }
   ],
   "source": [
    "options[7]"
   ]
  },
  {
   "cell_type": "code",
   "execution_count": 10,
   "id": "c07da2dd-6edf-45f0-89d3-ce34886498a9",
   "metadata": {},
   "outputs": [
    {
     "data": {
      "text/plain": [
       "\"Which of the following best explains the overall trend shown in the <image>?\\n A: [\\n B: '\\n C: M\\n D: M\""
      ]
     },
     "execution_count": 10,
     "metadata": {},
     "output_type": "execute_result"
    }
   ],
   "source": [
    "qa\n",
    "print()"
   ]
  },
  {
   "cell_type": "code",
   "execution_count": 1,
   "id": "9483dcef-2c18-4295-aad9-fdf59943623c",
   "metadata": {},
   "outputs": [
    {
     "name": "stderr",
     "output_type": "stream",
     "text": [
      "Some kwargs in processor config are unused and will not have any effect: num_additional_image_tokens. \n"
     ]
    },
    {
     "data": {
      "application/vnd.jupyter.widget-view+json": {
       "model_id": "523b7825c4bc45e09e8ead277f931105",
       "version_major": 2,
       "version_minor": 0
      },
      "text/plain": [
       "Loading checkpoint shards:   0%|          | 0/4 [00:00<?, ?it/s]"
      ]
     },
     "metadata": {},
     "output_type": "display_data"
    },
    {
     "data": {
      "text/plain": [
       "LlavaNextForConditionalGeneration(\n",
       "  (vision_tower): CLIPVisionModel(\n",
       "    (vision_model): CLIPVisionTransformer(\n",
       "      (embeddings): CLIPVisionEmbeddings(\n",
       "        (patch_embedding): Conv2d(3, 1024, kernel_size=(14, 14), stride=(14, 14), bias=False)\n",
       "        (position_embedding): Embedding(577, 1024)\n",
       "      )\n",
       "      (pre_layrnorm): LayerNorm((1024,), eps=1e-05, elementwise_affine=True)\n",
       "      (encoder): CLIPEncoder(\n",
       "        (layers): ModuleList(\n",
       "          (0-23): 24 x CLIPEncoderLayer(\n",
       "            (self_attn): CLIPSdpaAttention(\n",
       "              (k_proj): Linear(in_features=1024, out_features=1024, bias=True)\n",
       "              (v_proj): Linear(in_features=1024, out_features=1024, bias=True)\n",
       "              (q_proj): Linear(in_features=1024, out_features=1024, bias=True)\n",
       "              (out_proj): Linear(in_features=1024, out_features=1024, bias=True)\n",
       "            )\n",
       "            (layer_norm1): LayerNorm((1024,), eps=1e-05, elementwise_affine=True)\n",
       "            (mlp): CLIPMLP(\n",
       "              (activation_fn): QuickGELUActivation()\n",
       "              (fc1): Linear(in_features=1024, out_features=4096, bias=True)\n",
       "              (fc2): Linear(in_features=4096, out_features=1024, bias=True)\n",
       "            )\n",
       "            (layer_norm2): LayerNorm((1024,), eps=1e-05, elementwise_affine=True)\n",
       "          )\n",
       "        )\n",
       "      )\n",
       "      (post_layernorm): LayerNorm((1024,), eps=1e-05, elementwise_affine=True)\n",
       "    )\n",
       "  )\n",
       "  (multi_modal_projector): LlavaNextMultiModalProjector(\n",
       "    (linear_1): Linear(in_features=1024, out_features=4096, bias=True)\n",
       "    (act): GELUActivation()\n",
       "    (linear_2): Linear(in_features=4096, out_features=4096, bias=True)\n",
       "  )\n",
       "  (language_model): MistralForCausalLM(\n",
       "    (model): MistralModel(\n",
       "      (embed_tokens): Embedding(32064, 4096)\n",
       "      (layers): ModuleList(\n",
       "        (0-31): 32 x MistralDecoderLayer(\n",
       "          (self_attn): MistralSdpaAttention(\n",
       "            (q_proj): Linear(in_features=4096, out_features=4096, bias=False)\n",
       "            (k_proj): Linear(in_features=4096, out_features=1024, bias=False)\n",
       "            (v_proj): Linear(in_features=4096, out_features=1024, bias=False)\n",
       "            (o_proj): Linear(in_features=4096, out_features=4096, bias=False)\n",
       "            (rotary_emb): MistralRotaryEmbedding()\n",
       "          )\n",
       "          (mlp): MistralMLP(\n",
       "            (gate_proj): Linear(in_features=4096, out_features=14336, bias=False)\n",
       "            (up_proj): Linear(in_features=4096, out_features=14336, bias=False)\n",
       "            (down_proj): Linear(in_features=14336, out_features=4096, bias=False)\n",
       "            (act_fn): SiLU()\n",
       "          )\n",
       "          (input_layernorm): MistralRMSNorm((4096,), eps=1e-05)\n",
       "          (post_attention_layernorm): MistralRMSNorm((4096,), eps=1e-05)\n",
       "        )\n",
       "      )\n",
       "      (norm): MistralRMSNorm((4096,), eps=1e-05)\n",
       "    )\n",
       "    (lm_head): Linear(in_features=4096, out_features=32064, bias=False)\n",
       "  )\n",
       ")"
      ]
     },
     "execution_count": 1,
     "metadata": {},
     "output_type": "execute_result"
    }
   ],
   "source": [
    "from transformers import LlavaNextProcessor, LlavaNextForConditionalGeneration\n",
    "import torch\n",
    "from PIL import Image\n",
    "import requests\n",
    "\n",
    "processor = LlavaNextProcessor.from_pretrained(\"llava-hf/llava-v1.6-mistral-7b-hf\")\n",
    "\n",
    "model = LlavaNextForConditionalGeneration.from_pretrained(\"llava-hf/llava-v1.6-mistral-7b-hf\", torch_dtype=torch.float16, low_cpu_mem_usage=True)\n",
    "model.to(\"cuda:1\")\n"
   ]
  },
  {
   "cell_type": "code",
   "execution_count": 9,
   "id": "df742882-7b3a-4ba3-894b-952bc028c01e",
   "metadata": {},
   "outputs": [
    {
     "name": "stdout",
     "output_type": "stream",
     "text": [
      "Defaulting to user installation because normal site-packages is not writeable\n",
      "Requirement already satisfied: jinja2 in /usr/lib/python3/dist-packages (3.0.3)\n",
      "Collecting jinja2\n",
      "  Downloading jinja2-3.1.4-py3-none-any.whl (133 kB)\n",
      "\u001b[2K     \u001b[90m━━━━━━━━━━━━━━━━━━━━━━━━━━━━━━━━━━━━━━━\u001b[0m \u001b[32m133.3/133.3 KB\u001b[0m \u001b[31m3.4 MB/s\u001b[0m eta \u001b[36m0:00:00\u001b[0m00:01\u001b[0m\n",
      "\u001b[?25hRequirement already satisfied: MarkupSafe>=2.0 in /usr/lib/python3/dist-packages (from jinja2) (2.0.1)\n",
      "Installing collected packages: jinja2\n",
      "Successfully installed jinja2-3.1.4\n"
     ]
    }
   ],
   "source": [
    "!pip install --upgrade jinja2"
   ]
  },
  {
   "cell_type": "code",
   "execution_count": null,
   "id": "f5a9a9d2-445b-4184-b3c2-c360e2db86bc",
   "metadata": {},
   "outputs": [],
   "source": []
  }
 ],
 "metadata": {
  "kernelspec": {
   "display_name": "Python 3 (ipykernel)",
   "language": "python",
   "name": "python3"
  },
  "language_info": {
   "codemirror_mode": {
    "name": "ipython",
    "version": 3
   },
   "file_extension": ".py",
   "mimetype": "text/x-python",
   "name": "python",
   "nbconvert_exporter": "python",
   "pygments_lexer": "ipython3",
   "version": "3.10.12"
  }
 },
 "nbformat": 4,
 "nbformat_minor": 5
}
