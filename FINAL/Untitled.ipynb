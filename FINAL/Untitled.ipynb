{
 "cells": [
  {
   "cell_type": "code",
   "execution_count": 44,
   "id": "1541c007-c432-4d31-816a-6ed74e5a14b3",
   "metadata": {},
   "outputs": [
    {
     "name": "stderr",
     "output_type": "stream",
     "text": [
      "/tmp/ipykernel_1759403/2397085348.py:39: FutureWarning: You are using `torch.load` with `weights_only=False` (the current default value), which uses the default pickle module implicitly. It is possible to construct malicious pickle data which will execute arbitrary code during unpickling (See https://github.com/pytorch/pytorch/blob/main/SECURITY.md#untrusted-models for more details). In a future release, the default value for `weights_only` will be flipped to `True`. This limits the functions that could be executed during unpickling. Arbitrary objects will no longer be allowed to be loaded via this mode unless they are explicitly allowlisted by the user via `torch.serialization.add_safe_globals`. We recommend you start setting `weights_only=True` for any use case where you don't have full control of the loaded file. Please open an issue on GitHub for any issues related to this experimental feature.\n",
      "  sae.load_state_dict(torch.load(f\"/data/vision/torralba/selfmanaged/torralba/scratch/schwett/meow/SAE_imagetext_layer{layer}_models_longrun/\"+dirr))\n",
      "/tmp/ipykernel_1759403/2397085348.py:59: FutureWarning: You are using `torch.load` with `weights_only=False` (the current default value), which uses the default pickle module implicitly. It is possible to construct malicious pickle data which will execute arbitrary code during unpickling (See https://github.com/pytorch/pytorch/blob/main/SECURITY.md#untrusted-models for more details). In a future release, the default value for `weights_only` will be flipped to `True`. This limits the functions that could be executed during unpickling. Arbitrary objects will no longer be allowed to be loaded via this mode unless they are explicitly allowlisted by the user via `torch.serialization.add_safe_globals`. We recommend you start setting `weights_only=True` for any use case where you don't have full control of the loaded file. Please open an issue on GitHub for any issues related to this experimental feature.\n",
      "  data1 = torch.load(f'image_activations/{cls1[index]}/layer8.pt').cpu().numpy()\n",
      "/tmp/ipykernel_1759403/2397085348.py:60: FutureWarning: You are using `torch.load` with `weights_only=False` (the current default value), which uses the default pickle module implicitly. It is possible to construct malicious pickle data which will execute arbitrary code during unpickling (See https://github.com/pytorch/pytorch/blob/main/SECURITY.md#untrusted-models for more details). In a future release, the default value for `weights_only` will be flipped to `True`. This limits the functions that could be executed during unpickling. Arbitrary objects will no longer be allowed to be loaded via this mode unless they are explicitly allowlisted by the user via `torch.serialization.add_safe_globals`. We recommend you start setting `weights_only=True` for any use case where you don't have full control of the loaded file. Please open an issue on GitHub for any issues related to this experimental feature.\n",
      "  data2 = torch.load(f'image_activations/{cls2[index]}/layer8.pt').cpu().numpy()\n"
     ]
    }
   ],
   "source": [
    "\n",
    "layer = 8\n",
    "gpu_index = 0\n",
    "\n",
    "sparsity_levels = [0.005,0.0005,0.00005,0.000005,0]\n",
    "lamb = 0.0\n",
    "\n",
    "import torch\n",
    "import torch.nn as nn\n",
    "import torch.optim as optim\n",
    "from tqdm import tqdm\n",
    "import numpy as np\n",
    "import os\n",
    "device = torch.device(\"cuda:\"+str(gpu_index))\n",
    "\n",
    "class SAE(nn.Module):\n",
    "    def __init__(self):\n",
    "        super(SAE, self).__init__()\n",
    "        self.fc1 = nn.Linear(4096,int(8*4096),bias=True) \n",
    "        self.relu1 = nn.ReLU()\n",
    "        self.fc2 = nn.Linear(int(8*4096), 4096,bias=True) \n",
    "        self.initialize_weights()\n",
    "    #Biases are initialized to zero, \n",
    "    def initialize_weights(self):\n",
    "        nn.init.zeros_(self.fc1.bias)\n",
    "        nn.init.zeros_(self.fc2.bias)\n",
    "        #fun trick, gaussians in high dimensions are uniform \"soap bubbles\"\n",
    "        W_d = torch.randn(self.fc2.weight.size())\n",
    "        W_d = W_d / W_d.norm(dim=1, keepdim=True) * 0.1  # Adjust 0.1 as needed\n",
    "        self.fc2.weight.data = W_d\n",
    "        self.fc1.weight.data = W_d.t()\n",
    "    def forward(self, x):\n",
    "        features = self.relu1(self.fc1(x))\n",
    "        x_hat = self.fc2(features)\n",
    "        return x_hat,features \n",
    "sae = SAE()\n",
    "sae = nn.DataParallel(sae, device_ids=[gpu_index])\n",
    "sae = sae.cuda(device=gpu_index)\n",
    "dirr = os.listdir(f\"/data/vision/torralba/selfmanaged/torralba/scratch/schwett/meow/SAE_imagetext_layer{layer}_models_longrun/\")[0]\n",
    "sae.load_state_dict(torch.load(f\"/data/vision/torralba/selfmanaged/torralba/scratch/schwett/meow/SAE_imagetext_layer{layer}_models_longrun/\"+dirr))\n",
    "\n",
    "\n",
    "from sklearn.model_selection import train_test_split\n",
    "from sklearn.metrics import accuracy_score\n",
    "\n",
    "\n",
    "\n",
    "w = open(\"class_pairs.txt\", 'r').read().splitlines() \n",
    "steering_vectors = []\n",
    "classes = os.listdir(\"steering_vectors\")\n",
    "cls1 = []\n",
    "cls2 = []\n",
    "for cls in classes[:2]:\n",
    "    a = cls.split(\"_to_\")[0]\n",
    "    b = cls.split(\"_to_\")[1]\n",
    "    cls1.append(a)\n",
    "    cls2.append(b)\n",
    "\n",
    "index = 1\n",
    "data1 = torch.load(f'image_activations/{cls1[index]}/layer8.pt').cpu().numpy()\n",
    "data2 = torch.load(f'image_activations/{cls2[index]}/layer8.pt').cpu().numpy()\n",
    "\n",
    "\n",
    "\n"
   ]
  },
  {
   "cell_type": "code",
   "execution_count": null,
   "id": "4dbaa132-b5f5-4695-9d47-65c5cda41e66",
   "metadata": {},
   "outputs": [],
   "source": []
  },
  {
   "cell_type": "code",
   "execution_count": 20,
   "id": "1dd92553-7cde-4f2d-9f8a-bd1f892e4fa1",
   "metadata": {},
   "outputs": [],
   "source": [
    "import torch\n",
    "import numpy as np"
   ]
  },
  {
   "cell_type": "code",
   "execution_count": 21,
   "id": "5cce10a4-bc68-4284-8edb-5d5179b6db5d",
   "metadata": {},
   "outputs": [
    {
     "data": {
      "text/plain": [
       "Linear(in_features=32768, out_features=998, bias=True)"
      ]
     },
     "execution_count": 21,
     "metadata": {},
     "output_type": "execute_result"
    }
   ],
   "source": []
  },
  {
   "cell_type": "code",
   "execution_count": 3,
   "id": "8ee48f3a-ae62-45e2-800a-ea45fdd478cb",
   "metadata": {},
   "outputs": [],
   "source": [
    "lambs = [0.01, 0.00265914795, 0.000707106781, 0.000188030155, 5e-05]"
   ]
  },
  {
   "cell_type": "code",
   "execution_count": 18,
   "id": "821e8217-3782-4167-a8a4-0d5df028c6d1",
   "metadata": {},
   "outputs": [],
   "source": [
    "l0s_2 = []\n",
    "cos_sim_2 = []\n",
    "for lamb in lambs:\n",
    "    l0s_2.extend(np.load(f\"steering_approx/random/lambda_{lamb}_reconstruction_l0s.npy\"))\n",
    "    cos_sim_2.extend(np.load(f\"steering_approx/random/lambda_{lamb}_reconstruction_dots.npy\"))\n",
    "    "
   ]
  },
  {
   "cell_type": "code",
   "execution_count": null,
   "id": "a565e43f-7417-4c52-ad70-ce1febc4fbcf",
   "metadata": {},
   "outputs": [],
   "source": [
    "l0s_2 = []\n",
    "cos_sim_2 = []\n",
    "for lamb in lambs:\n",
    "    l0s_2.extend(np.load(f\"steering_approx/random/lambda_{lamb}_reconstruction_l0s.npy\"))\n",
    "    cos_sim_2.extend(np.load(f\"steering_approx/random/lambda_{lamb}_reconstruction_dots.npy\"))\n",
    "    "
   ]
  },
  {
   "cell_type": "code",
   "execution_count": 19,
   "id": "d00da41d-42c5-4ebc-a2cd-b3644753b6a7",
   "metadata": {},
   "outputs": [],
   "source": [
    "import seaborn as sns"
   ]
  },
  {
   "cell_type": "code",
   "execution_count": 20,
   "id": "612fa8ef-abcf-4b54-acd2-e8e9d5ce2b0c",
   "metadata": {},
   "outputs": [],
   "source": [
    "import matplotlib.pyplot as plt"
   ]
  },
  {
   "cell_type": "code",
   "execution_count": 23,
   "id": "a9b51e50-ecbe-4ebc-9bbe-d8be08115ae0",
   "metadata": {},
   "outputs": [
    {
     "data": {
      "image/png": "[encoded data removed]",
      "text/plain": [
       "<Figure size 1200x900 with 1 Axes>"
      ]
     },
     "metadata": {},
     "output_type": "display_data"
    }
   ],
   "source": [
    "colors = [\n",
    "    sns.color_palette(\"muted\", 7)[0],\n",
    "    sns.color_palette(\"muted\", 7)[1],\n",
    "]\n",
    "\n",
    "# Plot\n",
    "plt.figure(figsize=(12, 9))\n",
    "ax = sns.scatterplot(x=l0s,y=cos_sim,label='Steering Vectors',color=colors[0],s=100,alpha = 0.7)\n",
    "sns.scatterplot(x=l0s_2,y=cos_sim_2,label='Random Vectors',color=colors[1],s=100)\n",
    "\n",
    "# Styling\n",
    "plt.title(\"Steering Vector Approximation\", fontsize=36, fontweight='bold')\n",
    "plt.xlabel(\"Reconstruction Sparsity (l0)\", fontsize=36, fontweight='bold', labelpad=20)\n",
    "plt.ylabel(\"Cosine Similarity\", fontsize=36, fontweight='bold', labelpad=20)\n",
    "plt.xticks(fontsize=24)\n",
    "plt.yticks(fontsize=24)\n",
    "plt.legend(fontsize=20, title=\"Target Vector\", title_fontsize=24)\n",
    "plt.grid(axis='both', linestyle='--', alpha=0.7)\n",
    "ax.set_xscale('log')\n",
    "# Display the plot\n",
    "plt.savefig('snuggle.png', dpi=1000, bbox_inches='tight')\n",
    "plt.show()\n"
   ]
  },
  {
   "cell_type": "code",
   "execution_count": 4,
   "id": "091c684d-d5a5-4db5-876f-9913aedac132",
   "metadata": {},
   "outputs": [],
   "source": [
    "import torch\n",
    "import numpy as np"
   ]
  },
  {
   "cell_type": "code",
   "execution_count": 6,
   "id": "f63b345f-817b-4e2c-a95d-5137ad31efd3",
   "metadata": {},
   "outputs": [],
   "source": [
    "layer=8\n",
    "gpu_index=0\n",
    "import torch.nn as nn"
   ]
  },
  {
   "cell_type": "code",
   "execution_count": null,
   "id": "a7f5f3fc-36a5-4792-86fc-9407b90056e6",
   "metadata": {},
   "outputs": [],
   "source": []
  },
  {
   "cell_type": "code",
   "execution_count": 7,
   "id": "ff6d164d-d7fd-4d83-8558-913d1b2fbb14",
   "metadata": {},
   "outputs": [
    {
     "name": "stderr",
     "output_type": "stream",
     "text": [
      "/tmp/ipykernel_2322646/1815227225.py:25: FutureWarning: You are using `torch.load` with `weights_only=False` (the current default value), which uses the default pickle module implicitly. It is possible to construct malicious pickle data which will execute arbitrary code during unpickling (See https://github.com/pytorch/pytorch/blob/main/SECURITY.md#untrusted-models for more details). In a future release, the default value for `weights_only` will be flipped to `True`. This limits the functions that could be executed during unpickling. Arbitrary objects will no longer be allowed to be loaded via this mode unless they are explicitly allowlisted by the user via `torch.serialization.add_safe_globals`. We recommend you start setting `weights_only=True` for any use case where you don't have full control of the loaded file. Please open an issue on GitHub for any issues related to this experimental feature.\n",
      "  sae.load_state_dict(torch.load(f\"/data/vision/torralba/selfmanaged/torralba/scratch/schwett/meow//SAE_imagetext_layer{layer}_models_longrun/\"+dirr))\n"
     ]
    },
    {
     "data": {
      "text/plain": [
       "<All keys matched successfully>"
      ]
     },
     "execution_count": 7,
     "metadata": {},
     "output_type": "execute_result"
    }
   ],
   "source": [
    "class SAE(nn.Module):\n",
    "    def __init__(self):\n",
    "        super(SAE, self).__init__()\n",
    "        self.fc1 = nn.Linear(4096,int(8*4096),bias=True) \n",
    "        self.relu1 = nn.ReLU()\n",
    "        self.fc2 = nn.Linear(int(8*4096), 4096,bias=True) \n",
    "        self.initialize_weights()\n",
    "    #Biases are initialized to zero, \n",
    "    def initialize_weights(self):\n",
    "        nn.init.zeros_(self.fc1.bias)\n",
    "        nn.init.zeros_(self.fc2.bias)\n",
    "        #fun trick, gaussians in high dimensions are uniform \"soap bubbles\"\n",
    "        W_d = torch.randn(self.fc2.weight.size())\n",
    "        W_d = W_d / W_d.norm(dim=1, keepdim=True) * 0.1  # Adjust 0.1 as needed\n",
    "        self.fc2.weight.data = W_d\n",
    "        self.fc1.weight.data = W_d.t()\n",
    "    def forward(self, x):\n",
    "        features = self.relu1(self.fc1(x))\n",
    "        x_hat = self.fc2(features)\n",
    "        return x_hat,features \n",
    "sae = SAE()\n",
    "sae = nn.DataParallel(sae, device_ids=[gpu_index])\n",
    "sae = sae.cuda(device=gpu_index)\n",
    "dirr = os.listdir(f\"/data/vision/torralba/selfmanaged/torralba/scratch/schwett/meow//SAE_imagetext_layer{layer}_models_longrun/\")[0]\n",
    "sae.load_state_dict(torch.load(f\"/data/vision/torralba/selfmanaged/torralba/scratch/schwett/meow//SAE_imagetext_layer{layer}_models_longrun/\"+dirr))\n"
   ]
  },
  {
   "cell_type": "code",
   "execution_count": 2,
   "id": "e51ae1c3-fb70-497c-9d74-b591f32c2755",
   "metadata": {},
   "outputs": [
    {
     "ename": "SyntaxError",
     "evalue": "invalid syntax (3494575283.py, line 4)",
     "output_type": "error",
     "traceback": [
      "\u001b[0;36m  Cell \u001b[0;32mIn[2], line 4\u001b[0;36m\u001b[0m\n\u001b[0;31m    self.linear = nn.Linear(,998)\u001b[0m\n\u001b[0m                            ^\u001b[0m\n\u001b[0;31mSyntaxError\u001b[0m\u001b[0;31m:\u001b[0m invalid syntax\n"
     ]
    }
   ],
   "source": [
    "import torch\n",
    "import torch.nn as nn\n",
    "class SimpleLinear(nn.Module):\n",
    "    self.linear = nn.Linear(,998)"
   ]
  },
  {
   "cell_type": "code",
   "execution_count": 1,
   "id": "15fe8869-a93e-4853-a742-3887b18fbc29",
   "metadata": {},
   "outputs": [],
   "source": [
    "import os"
   ]
  },
  {
   "cell_type": "code",
   "execution_count": 8,
   "id": "f415ac9f-eb97-426b-82a4-7684ee55a19e",
   "metadata": {},
   "outputs": [
    {
     "name": "stderr",
     "output_type": "stream",
     "text": [
      "/tmp/ipykernel_2322646/1009705664.py:2: FutureWarning: You are using `torch.load` with `weights_only=False` (the current default value), which uses the default pickle module implicitly. It is possible to construct malicious pickle data which will execute arbitrary code during unpickling (See https://github.com/pytorch/pytorch/blob/main/SECURITY.md#untrusted-models for more details). In a future release, the default value for `weights_only` will be flipped to `True`. This limits the functions that could be executed during unpickling. Arbitrary objects will no longer be allowed to be loaded via this mode unless they are explicitly allowlisted by the user via `torch.serialization.add_safe_globals`. We recommend you start setting `weights_only=True` for any use case where you don't have full control of the loaded file. Please open an issue on GitHub for any issues related to this experimental feature.\n",
      "  embeddings_list = [torch.load(f\"image_activations/{x}/layer8.pt\").detach().cpu() for x in lis]\n"
     ]
    }
   ],
   "source": [
    "lis = os.listdir('image_activations')\n",
    "embeddings_list = [torch.load(f\"image_activations/{x}/layer8.pt\").detach().cpu() for x in lis]"
   ]
  },
  {
   "cell_type": "code",
   "execution_count": 19,
   "id": "792281b1-fd22-4e4f-91cf-65f88b7f7697",
   "metadata": {},
   "outputs": [
    {
     "name": "stdout",
     "output_type": "stream",
     "text": [
      "Epoch [1/25], Loss: 9.5043\n",
      "Epoch [2/25], Loss: 9.1689\n",
      "Epoch [3/25], Loss: 8.7045\n",
      "Epoch [4/25], Loss: 8.2139\n",
      "Epoch [5/25], Loss: 7.8220\n",
      "Epoch [6/25], Loss: 7.5572\n",
      "Epoch [7/25], Loss: 7.3860\n",
      "Epoch [8/25], Loss: 7.2735\n",
      "Epoch [9/25], Loss: 7.1967\n",
      "Epoch [10/25], Loss: 7.1421\n",
      "Epoch [11/25], Loss: 7.1020\n",
      "Epoch [12/25], Loss: 7.0717\n",
      "Epoch [13/25], Loss: 7.0481\n",
      "Epoch [14/25], Loss: 7.0294\n",
      "Epoch [15/25], Loss: 7.0143\n",
      "Epoch [16/25], Loss: 7.0020\n",
      "Epoch [17/25], Loss: 6.9917\n",
      "Epoch [18/25], Loss: 6.9830\n",
      "Epoch [19/25], Loss: 6.9757\n",
      "Epoch [20/25], Loss: 6.9694\n",
      "Epoch [21/25], Loss: 6.9640\n",
      "Epoch [22/25], Loss: 6.9592\n",
      "Epoch [23/25], Loss: 6.9551\n",
      "Epoch [24/25], Loss: 6.9514\n",
      "Epoch [25/25], Loss: 6.9482\n",
      "Sparsity (l0): 112961.046875\n",
      "Test Top-1 Accuracy: 0.10%\n",
      "Test Top-5 Accuracy: 0.57%\n"
     ]
    }
   ],
   "source": [
    "import torch\n",
    "import torch.nn as nn\n",
    "import torch.optim as optim\n",
    "import torch.nn.functional as F\n",
    "from torch.utils.data import TensorDataset, DataLoader\n",
    "\n",
    "# ---------------------------------------------------------\n",
    "# 1) Suppose you already have 998 tensors, each of shape (500, 4096).\n",
    "#    We'll call them: embeddings_list = [emb_0, emb_1, ..., emb_997].\n",
    "#    For demonstration, let's just create random data here.\n",
    "# ---------------------------------------------------------\n",
    "num_classes = 998\n",
    "samples_per_class = 500\n",
    "embedding_dim = 4096*8\n",
    "\n",
    "# ---------------------------------------------------------\n",
    "# 2) Create a single dataset (X, y).\n",
    "#    - X shape: (998 * 500, 4096)\n",
    "#    - y shape: (998 * 500,)\n",
    "# ---------------------------------------------------------\n",
    "all_data = torch.cat(embeddings_list, dim=0)  # shape: (998*500, 4096)\n",
    "\n",
    "all_labels_list = []\n",
    "for class_idx, emb in enumerate(embeddings_list):\n",
    "    # Label tensor of shape (500,) all filled with class_idx\n",
    "    labels = torch.full((emb.shape[0],), class_idx, dtype=torch.long)\n",
    "    all_labels_list.append(labels)\n",
    "\n",
    "all_labels = torch.cat(all_labels_list, dim=0)  # shape: (998*500,)\n",
    "\n",
    "# ---------------------------------------------------------\n",
    "# 3) Shuffle the dataset\n",
    "# ---------------------------------------------------------\n",
    "num_samples = all_data.size(0)\n",
    "indices = torch.randperm(num_samples)\n",
    "all_data = all_data[indices]\n",
    "all_labels = all_labels[indices]\n",
    "reciptemp=1.5\n",
    "lamb=1e-7\n",
    "# ---------------------------------------------------------\n",
    "# 4) Split into train/test sets\n",
    "# ---------------------------------------------------------\n",
    "train_ratio = 0.8\n",
    "train_size = int(num_samples * train_ratio)\n",
    "\n",
    "train_data = all_data[:train_size]\n",
    "train_labels = all_labels[:train_size]\n",
    "\n",
    "test_data = all_data[train_size:]\n",
    "test_labels = all_labels[train_size:]\n",
    "\n",
    "# ---------------------------------------------------------\n",
    "# 5) Wrap into DataLoaders\n",
    "# ---------------------------------------------------------\n",
    "batch_size = 2048\n",
    "\n",
    "train_dataset = TensorDataset(train_data, train_labels)\n",
    "test_dataset = TensorDataset(test_data, test_labels)\n",
    "\n",
    "train_loader = DataLoader(train_dataset, batch_size=batch_size, shuffle=True)\n",
    "test_loader = DataLoader(test_dataset, batch_size=batch_size, shuffle=False)\n",
    "\n",
    "# ---------------------------------------------------------\n",
    "# 6) Define a linear classifier\n",
    "# ---------------------------------------------------------\n",
    "model = nn.Linear(embedding_dim, num_classes)\n",
    "\n",
    "# Move model to GPU if available\n",
    "device = torch.device('cuda' if torch.cuda.is_available() else 'cpu')\n",
    "model.to(device)\n",
    "\n",
    "# Use NLLLoss with log_softmax\n",
    "mask = torch.zeros((4096*8,998), requires_grad=True,device=device)\n",
    "criterion = nn.NLLLoss()\n",
    "optimizer = optim.Adam(list(model.parameters())+[mask], lr=4e-3)\n",
    "\n",
    "# ---------------------------------------------------------\n",
    "# 7) Training loop\n",
    "# ---------------------------------------------------------\n",
    "epochs = 25\n",
    "\n",
    "for epoch in range(epochs):\n",
    "    model.train()\n",
    "    total_loss = 0.0\n",
    "    \n",
    "    for X_batch, y_batch in train_loader:\n",
    "        X_batch = X_batch.to(device)\n",
    "        y_batch = y_batch.to(device)\n",
    "        \n",
    "        optimizer.zero_grad()\n",
    "        \n",
    "        # Get logits from the model\n",
    "        saed = sae(X_batch)[1]\n",
    "        u = torch.clip(torch.rand((4096*8,998),device=device, requires_grad=True),0.0001,0.9999)\n",
    "        s = torch.sigmoid(reciptemp*((u/(1-u)).log() + mask))\n",
    "        z = torch.clip(s*(1.2)-0.1,0,1)\n",
    "        \n",
    "        outputs = torch.matmul(saed,model.weight.data.T*z) # shape: (batch_size, num_classes)\n",
    "        \n",
    "        # Convert to log probabilities\n",
    "        log_probs = F.log_softmax(outputs, dim=1)  # shape: (batch_size, num_classes)\n",
    "        \n",
    "        # Compute NLL loss\n",
    "        loss = criterion(log_probs, y_batch)+ lamb*torch.sum(torch.sigmoid(mask-np.log(0.1 / 1.1)/reciptemp))\n",
    "        loss.backward()\n",
    "        optimizer.step()\n",
    "        \n",
    "        total_loss += loss.item()\n",
    "    \n",
    "    avg_loss = total_loss / len(train_loader)\n",
    "    print(f\"Epoch [{epoch+1}/{epochs}], Loss: {avg_loss:.4f}\")\n",
    "u = torch.clip(torch.rand((4096*8,998),device=device, requires_grad=True),0.0001,0.9999)\n",
    "s = torch.sigmoid(reciptemp*((u/(1-u)).log() + mask))\n",
    "z = torch.clip(s*(1.2)-0.1,0,1)\n",
    "model.weight.data *= z.T\n",
    "# ---------------------------------------------------------\n",
    "# 8) Evaluation (top-1 and top-5)\n",
    "# ---------------------------------------------------------\n",
    "model.eval()\n",
    "correct_top1 = 0\n",
    "correct_top5 = 0\n",
    "total = 0\n",
    "\n",
    "with torch.no_grad():\n",
    "    for X_batch, y_batch in test_loader:\n",
    "        X_batch = X_batch.to(device)\n",
    "        y_batch = y_batch.to(device)\n",
    "        \n",
    "        # Get raw logits from the model\n",
    "        outputs = model(sae(X_batch)[1])  # (batch_size, num_classes)\n",
    "        # Convert logits to probabilities via softmax\n",
    "        probs = F.softmax(outputs, dim=1)  # shape: (batch_size, num_classes)\n",
    "        \n",
    "        # Top-1 accuracy\n",
    "        _, pred_top1 = probs.max(dim=1)\n",
    "        correct_top1 += pred_top1.eq(y_batch).sum().item()\n",
    "        \n",
    "        # Top-5 accuracy\n",
    "        _, top5_indices = probs.topk(5, dim=1)\n",
    "        # Check if the true label is among the top-5 predictions\n",
    "        correct_in_top5 = torch.any(top5_indices.eq(y_batch.view(-1, 1)), dim=1)\n",
    "        correct_top5 += correct_in_top5.sum().item()\n",
    "        \n",
    "        total += y_batch.size(0)\n",
    "\n",
    "top1_acc = correct_top1 / total\n",
    "top5_acc = correct_top5 / total\n",
    "print(f\"Sparsity (l0): {z.sum().item()}\")\n",
    "print(f\"Test Top-1 Accuracy: {top1_acc * 100:.2f}%\")\n",
    "print(f\"Test Top-5 Accuracy: {top5_acc * 100:.2f}%\")\n"
   ]
  },
  {
   "cell_type": "code",
   "execution_count": 23,
   "id": "e322ab77-2708-427e-a477-d46ba059988d",
   "metadata": {},
   "outputs": [
    {
     "data": {
      "text/plain": [
       "array([ 0.        ,  1.57894737,  3.15789474,  4.73684211,  6.31578947,\n",
       "        7.89473684,  9.47368421, 11.05263158, 12.63157895, 14.21052632,\n",
       "       15.78947368, 17.36842105, 18.94736842, 20.52631579, 22.10526316,\n",
       "       23.68421053, 25.26315789, 26.84210526, 28.42105263, 30.        ])"
      ]
     },
     "execution_count": 23,
     "metadata": {},
     "output_type": "execute_result"
    }
   ],
   "source": [
    "np.linspace(0,30,20)"
   ]
  },
  {
   "cell_type": "code",
   "execution_count": 154,
   "id": "9fc3d118-a04d-493b-9b60-e3361faa1522",
   "metadata": {},
   "outputs": [
    {
     "ename": "NameError",
     "evalue": "name 'group_labels' is not defined",
     "output_type": "error",
     "traceback": [
      "\u001b[0;31m---------------------------------------------------------------------------\u001b[0m",
      "\u001b[0;31mNameError\u001b[0m                                 Traceback (most recent call last)",
      "Cell \u001b[0;32mIn[154], line 9\u001b[0m\n\u001b[1;32m      7\u001b[0m \u001b[38;5;66;03m# Plot each category's data for the groups\u001b[39;00m\n\u001b[1;32m      8\u001b[0m \u001b[38;5;28;01mfor\u001b[39;00m i, category \u001b[38;5;129;01min\u001b[39;00m \u001b[38;5;28menumerate\u001b[39m(categories):\n\u001b[0;32m----> 9\u001b[0m     category_values \u001b[38;5;241m=\u001b[39m [new_data[group][i] \u001b[38;5;28;01mfor\u001b[39;00m group \u001b[38;5;129;01min\u001b[39;00m \u001b[43mgroup_labels\u001b[49m]\n\u001b[1;32m     10\u001b[0m     ax\u001b[38;5;241m.\u001b[39mbar(x \u001b[38;5;241m+\u001b[39m i \u001b[38;5;241m*\u001b[39m thin_width \u001b[38;5;241m-\u001b[39m (\u001b[38;5;28mlen\u001b[39m(categories) \u001b[38;5;241m-\u001b[39m \u001b[38;5;241m1\u001b[39m) \u001b[38;5;241m*\u001b[39m thin_width \u001b[38;5;241m/\u001b[39m \u001b[38;5;241m2\u001b[39m, category_values, thin_width, \n\u001b[1;32m     11\u001b[0m            label\u001b[38;5;241m=\u001b[39mcategory, color\u001b[38;5;241m=\u001b[39mcustom_colors[i \u001b[38;5;241m%\u001b[39m \u001b[38;5;28mlen\u001b[39m(custom_colors)], edgecolor\u001b[38;5;241m=\u001b[39m\u001b[38;5;124m'\u001b[39m\u001b[38;5;124mblack\u001b[39m\u001b[38;5;124m'\u001b[39m)\n\u001b[1;32m     13\u001b[0m \u001b[38;5;66;03m# Add annotations on the bars with small font size and bold text\u001b[39;00m\n",
      "\u001b[0;31mNameError\u001b[0m: name 'group_labels' is not defined"
     ]
    },
    {
     "data": {
      "image/png": "[encoded data removed]",
      "text/plain": [
       "<Figure size 2000x400 with 1 Axes>"
      ]
     },
     "metadata": {},
     "output_type": "display_data"
    }
   ],
   "source": [
    "# Adjust the plot to make it slightly thinner in height\n",
    "fig, ax = plt.subplots(figsize=(20, 4))  # Slightly thinner figure\n",
    "\n",
    "# Thinner bar width with gaps\n",
    "thin_width = 0.08\n",
    "\n",
    "# Plot each category's data for the groups\n",
    "for i, category in enumerate(categories):\n",
    "    category_values = [new_data[group][i] for group in group_labels]\n",
    "    ax.bar(x + i * thin_width - (len(categories) - 1) * thin_width / 2, category_values, thin_width, \n",
    "           label=category, color=custom_colors[i % len(custom_colors)], edgecolor='black')\n",
    "\n",
    "# Add annotations on the bars with small font size and bold text\n",
    "for bars in ax.containers:\n",
    "    for bar in bars:\n",
    "        height = bar.get_height()\n",
    "        ax.text(bar.get_x() + bar.get_width() / 2, height + 0.5, f\"{height:.1f}%\", \n",
    "                ha='center', va='bottom', fontsize=8, fontweight='bold')\n",
    "\n",
    "# Styling the plot\n",
    "ax.set_title(\"Performance Across Tasks\", fontsize=16, fontweight='bold')\n",
    "ax.set_ylabel(\"Performance (%)\", fontsize=12)\n",
    "ax.set_xlabel(\"Tasks\", fontsize=12)\n",
    "ax.set_xticks(x)\n",
    "ax.set_xticklabels(group_labels, fontsize=10)\n",
    "ax.legend(fontsize=10, title=\"Categories\")\n",
    "ax.grid(axis='y', linestyle='--', alpha=0.7)\n",
    "ax.set_ylim(20, 90)\n",
    "\n",
    "# Display the plot\n",
    "plt.tight_layout()\n",
    "plt.show()\n"
   ]
  },
  {
   "cell_type": "code",
   "execution_count": 132,
   "id": "5c6f0cd0-7b98-4d52-aeb9-02e81445a8c4",
   "metadata": {},
   "outputs": [],
   "source": [
    "base_imagenet = '/data/vision/torralba/datasets/imagenet_pytorch_new'\n",
    "labels_path = f'{base_imagenet}/imagenet_class_index.json'\n",
    "with open(labels_path, 'r') as f:\n",
    "    imagenet_labels = json.load(f)\n",
    "\n",
    "imagenet_labels = pd.DataFrame(imagenet_labels).T.rename(columns=({0: 'id', 1: 'label'}))"
   ]
  },
  {
   "cell_type": "code",
   "execution_count": 134,
   "id": "341f9f5a-ae99-4505-9b91-8ff988730e3d",
   "metadata": {},
   "outputs": [
    {
     "data": {
      "text/plain": [
       "1000"
      ]
     },
     "execution_count": 134,
     "metadata": {},
     "output_type": "execute_result"
    }
   ],
   "source": [
    "len(imagenet_labels)"
   ]
  },
  {
   "cell_type": "code",
   "execution_count": 94,
   "id": "dd31754d-b392-4036-b8e2-29d9679cda10",
   "metadata": {},
   "outputs": [
    {
     "data": {
      "text/plain": [
       "['radio', 'tank']"
      ]
     },
     "execution_count": 94,
     "metadata": {},
     "output_type": "execute_result"
    }
   ],
   "source": [
    "cls2"
   ]
  },
  {
   "cell_type": "code",
   "execution_count": 81,
   "id": "681f72da-a189-4c06-a67a-3bea9486c54e",
   "metadata": {},
   "outputs": [
    {
     "data": {
      "text/plain": [
       "tensor(0.6215)"
      ]
     },
     "execution_count": 81,
     "metadata": {},
     "output_type": "execute_result"
    }
   ],
   "source": [
    "torch.mean(torch.nn.functional.cosine_similarity(torch.tensor(data1),torch.tensor(data2),dim=0))"
   ]
  },
  {
   "cell_type": "code",
   "execution_count": 124,
   "id": "b904f95f-ffb5-4d78-8a02-dc8ad6dfad7e",
   "metadata": {},
   "outputs": [],
   "source": [
    "import json\n",
    "base_imagenet = '/data/vision/torralba/datasets/imagenet_pytorch_new'\n",
    "labels_path = f'{base_imagenet}/imagenet_class_index.json'\n",
    "with open(labels_path, 'r') as f:\n",
    "    imagenet_labels = json.load(f)\n",
    "\n",
    "imagenet_labels = pd.DataFrame(imagenet_labels).T.rename(columns=({0: 'id', 1: 'label'}))"
   ]
  },
  {
   "cell_type": "code",
   "execution_count": 126,
   "id": "138f596a-4ff0-4798-9022-f76ad821beec",
   "metadata": {},
   "outputs": [
    {
     "data": {
      "text/plain": [
       "array(['tench', 'goldfish', 'great_white_shark', 'tiger_shark',\n",
       "       'hammerhead', 'electric_ray', 'stingray', 'cock', 'hen', 'ostrich',\n",
       "       'brambling', 'goldfinch', 'house_finch', 'junco', 'indigo_bunting',\n",
       "       'robin', 'bulbul', 'jay', 'magpie', 'chickadee', 'water_ouzel',\n",
       "       'kite', 'bald_eagle', 'vulture', 'great_grey_owl',\n",
       "       'European_fire_salamander', 'common_newt', 'eft',\n",
       "       'spotted_salamander', 'axolotl', 'bullfrog', 'tree_frog',\n",
       "       'tailed_frog', 'loggerhead', 'leatherback_turtle', 'mud_turtle',\n",
       "       'terrapin', 'box_turtle', 'banded_gecko', 'common_iguana',\n",
       "       'American_chameleon', 'whiptail', 'agama', 'frilled_lizard',\n",
       "       'alligator_lizard', 'Gila_monster', 'green_lizard',\n",
       "       'African_chameleon', 'Komodo_dragon', 'African_crocodile',\n",
       "       'American_alligator', 'triceratops', 'thunder_snake',\n",
       "       'ringneck_snake', 'hognose_snake', 'green_snake', 'king_snake',\n",
       "       'garter_snake', 'water_snake', 'vine_snake', 'night_snake',\n",
       "       'boa_constrictor', 'rock_python', 'Indian_cobra', 'green_mamba',\n",
       "       'sea_snake', 'horned_viper', 'diamondback', 'sidewinder',\n",
       "       'trilobite', 'harvestman', 'scorpion',\n",
       "       'black_and_gold_garden_spider', 'barn_spider', 'garden_spider',\n",
       "       'black_widow', 'tarantula', 'wolf_spider', 'tick', 'centipede',\n",
       "       'black_grouse', 'ptarmigan', 'ruffed_grouse', 'prairie_chicken',\n",
       "       'peacock', 'quail', 'partridge', 'African_grey', 'macaw',\n",
       "       'sulphur-crested_cockatoo', 'lorikeet', 'coucal', 'bee_eater',\n",
       "       'hornbill', 'hummingbird', 'jacamar', 'toucan', 'drake',\n",
       "       'red-breasted_merganser', 'goose', 'black_swan', 'tusker',\n",
       "       'echidna', 'platypus', 'wallaby', 'koala', 'wombat', 'jellyfish',\n",
       "       'sea_anemone', 'brain_coral', 'flatworm', 'nematode', 'conch',\n",
       "       'snail', 'slug', 'sea_slug', 'chiton', 'chambered_nautilus',\n",
       "       'Dungeness_crab', 'rock_crab', 'fiddler_crab', 'king_crab',\n",
       "       'American_lobster', 'spiny_lobster', 'crayfish', 'hermit_crab',\n",
       "       'isopod', 'white_stork', 'black_stork', 'spoonbill', 'flamingo',\n",
       "       'little_blue_heron', 'American_egret', 'bittern', 'crane',\n",
       "       'limpkin', 'European_gallinule', 'American_coot', 'bustard',\n",
       "       'ruddy_turnstone', 'red-backed_sandpiper', 'redshank', 'dowitcher',\n",
       "       'oystercatcher', 'pelican', 'king_penguin', 'albatross',\n",
       "       'grey_whale', 'killer_whale', 'dugong', 'sea_lion', 'Chihuahua',\n",
       "       'Japanese_spaniel', 'Maltese_dog', 'Pekinese', 'Shih-Tzu',\n",
       "       'Blenheim_spaniel', 'papillon', 'toy_terrier',\n",
       "       'Rhodesian_ridgeback', 'Afghan_hound', 'basset', 'beagle',\n",
       "       'bloodhound', 'bluetick', 'black-and-tan_coonhound',\n",
       "       'Walker_hound', 'English_foxhound', 'redbone', 'borzoi',\n",
       "       'Irish_wolfhound', 'Italian_greyhound', 'whippet', 'Ibizan_hound',\n",
       "       'Norwegian_elkhound', 'otterhound', 'Saluki', 'Scottish_deerhound',\n",
       "       'Weimaraner', 'Staffordshire_bullterrier',\n",
       "       'American_Staffordshire_terrier', 'Bedlington_terrier',\n",
       "       'Border_terrier', 'Kerry_blue_terrier', 'Irish_terrier',\n",
       "       'Norfolk_terrier', 'Norwich_terrier', 'Yorkshire_terrier',\n",
       "       'wire-haired_fox_terrier', 'Lakeland_terrier', 'Sealyham_terrier',\n",
       "       'Airedale', 'cairn', 'Australian_terrier', 'Dandie_Dinmont',\n",
       "       'Boston_bull', 'miniature_schnauzer', 'giant_schnauzer',\n",
       "       'standard_schnauzer', 'Scotch_terrier', 'Tibetan_terrier',\n",
       "       'silky_terrier', 'soft-coated_wheaten_terrier',\n",
       "       'West_Highland_white_terrier', 'Lhasa', 'flat-coated_retriever',\n",
       "       'curly-coated_retriever', 'golden_retriever', 'Labrador_retriever',\n",
       "       'Chesapeake_Bay_retriever', 'German_short-haired_pointer',\n",
       "       'vizsla', 'English_setter', 'Irish_setter', 'Gordon_setter',\n",
       "       'Brittany_spaniel', 'clumber', 'English_springer',\n",
       "       'Welsh_springer_spaniel', 'cocker_spaniel', 'Sussex_spaniel',\n",
       "       'Irish_water_spaniel', 'kuvasz', 'schipperke', 'groenendael',\n",
       "       'malinois', 'briard', 'kelpie', 'komondor', 'Old_English_sheepdog',\n",
       "       'Shetland_sheepdog', 'collie', 'Border_collie',\n",
       "       'Bouvier_des_Flandres', 'Rottweiler', 'German_shepherd',\n",
       "       'Doberman', 'miniature_pinscher', 'Greater_Swiss_Mountain_dog',\n",
       "       'Bernese_mountain_dog', 'Appenzeller', 'EntleBucher', 'boxer',\n",
       "       'bull_mastiff', 'Tibetan_mastiff', 'French_bulldog', 'Great_Dane',\n",
       "       'Saint_Bernard', 'Eskimo_dog', 'malamute', 'Siberian_husky',\n",
       "       'dalmatian', 'affenpinscher', 'basenji', 'pug', 'Leonberg',\n",
       "       'Newfoundland', 'Great_Pyrenees', 'Samoyed', 'Pomeranian', 'chow',\n",
       "       'keeshond', 'Brabancon_griffon', 'Pembroke', 'Cardigan',\n",
       "       'toy_poodle', 'miniature_poodle', 'standard_poodle',\n",
       "       'Mexican_hairless', 'timber_wolf', 'white_wolf', 'red_wolf',\n",
       "       'coyote', 'dingo', 'dhole', 'African_hunting_dog', 'hyena',\n",
       "       'red_fox', 'kit_fox', 'Arctic_fox', 'grey_fox', 'tabby',\n",
       "       'tiger_cat', 'Persian_cat', 'Siamese_cat', 'Egyptian_cat',\n",
       "       'cougar', 'lynx', 'leopard', 'snow_leopard', 'jaguar', 'lion',\n",
       "       'tiger', 'cheetah', 'brown_bear', 'American_black_bear',\n",
       "       'ice_bear', 'sloth_bear', 'mongoose', 'meerkat', 'tiger_beetle',\n",
       "       'ladybug', 'ground_beetle', 'long-horned_beetle', 'leaf_beetle',\n",
       "       'dung_beetle', 'rhinoceros_beetle', 'weevil', 'fly', 'bee', 'ant',\n",
       "       'grasshopper', 'cricket', 'walking_stick', 'cockroach', 'mantis',\n",
       "       'cicada', 'leafhopper', 'lacewing', 'dragonfly', 'damselfly',\n",
       "       'admiral', 'ringlet', 'monarch', 'cabbage_butterfly',\n",
       "       'sulphur_butterfly', 'lycaenid', 'starfish', 'sea_urchin',\n",
       "       'sea_cucumber', 'wood_rabbit', 'hare', 'Angora', 'hamster',\n",
       "       'porcupine', 'fox_squirrel', 'marmot', 'beaver', 'guinea_pig',\n",
       "       'sorrel', 'zebra', 'hog', 'wild_boar', 'warthog', 'hippopotamus',\n",
       "       'ox', 'water_buffalo', 'bison', 'ram', 'bighorn', 'ibex',\n",
       "       'hartebeest', 'impala', 'gazelle', 'Arabian_camel', 'llama',\n",
       "       'weasel', 'mink', 'polecat', 'black-footed_ferret', 'otter',\n",
       "       'skunk', 'badger', 'armadillo', 'three-toed_sloth', 'orangutan',\n",
       "       'gorilla', 'chimpanzee', 'gibbon', 'siamang', 'guenon', 'patas',\n",
       "       'baboon', 'macaque', 'langur', 'colobus', 'proboscis_monkey',\n",
       "       'marmoset', 'capuchin', 'howler_monkey', 'titi', 'spider_monkey',\n",
       "       'squirrel_monkey', 'Madagascar_cat', 'indri', 'Indian_elephant',\n",
       "       'African_elephant', 'lesser_panda', 'giant_panda', 'barracouta',\n",
       "       'eel', 'coho', 'rock_beauty', 'anemone_fish', 'sturgeon', 'gar',\n",
       "       'lionfish', 'puffer', 'abacus', 'abaya', 'academic_gown',\n",
       "       'accordion', 'acoustic_guitar', 'aircraft_carrier', 'airliner',\n",
       "       'airship', 'altar', 'ambulance', 'amphibian', 'analog_clock',\n",
       "       'apiary', 'apron', 'ashcan', 'assault_rifle', 'backpack', 'bakery',\n",
       "       'balance_beam', 'balloon', 'ballpoint', 'Band_Aid', 'banjo',\n",
       "       'bannister', 'barbell', 'barber_chair', 'barbershop', 'barn',\n",
       "       'barometer', 'barrel', 'barrow', 'baseball', 'basketball',\n",
       "       'bassinet', 'bassoon', 'bathing_cap', 'bath_towel', 'bathtub',\n",
       "       'beach_wagon', 'beacon', 'beaker', 'bearskin', 'beer_bottle',\n",
       "       'beer_glass', 'bell_cote', 'bib', 'bicycle-built-for-two',\n",
       "       'bikini', 'binder', 'binoculars', 'birdhouse', 'boathouse',\n",
       "       'bobsled', 'bolo_tie', 'bonnet', 'bookcase', 'bookshop',\n",
       "       'bottlecap', 'bow', 'bow_tie', 'brass', 'brassiere', 'breakwater',\n",
       "       'breastplate', 'broom', 'bucket', 'buckle', 'bulletproof_vest',\n",
       "       'bullet_train', 'butcher_shop', 'cab', 'caldron', 'candle',\n",
       "       'cannon', 'canoe', 'can_opener', 'cardigan', 'car_mirror',\n",
       "       'carousel', \"carpenter's_kit\", 'carton', 'car_wheel',\n",
       "       'cash_machine', 'cassette', 'cassette_player', 'castle',\n",
       "       'catamaran', 'CD_player', 'cello', 'cellular_telephone', 'chain',\n",
       "       'chainlink_fence', 'chain_mail', 'chain_saw', 'chest',\n",
       "       'chiffonier', 'chime', 'china_cabinet', 'Christmas_stocking',\n",
       "       'church', 'cinema', 'cleaver', 'cliff_dwelling', 'cloak', 'clog',\n",
       "       'cocktail_shaker', 'coffee_mug', 'coffeepot', 'coil',\n",
       "       'combination_lock', 'computer_keyboard', 'confectionery',\n",
       "       'container_ship', 'convertible', 'corkscrew', 'cornet',\n",
       "       'cowboy_boot', 'cowboy_hat', 'cradle', 'crane', 'crash_helmet',\n",
       "       'crate', 'crib', 'Crock_Pot', 'croquet_ball', 'crutch', 'cuirass',\n",
       "       'dam', 'desk', 'desktop_computer', 'dial_telephone', 'diaper',\n",
       "       'digital_clock', 'digital_watch', 'dining_table', 'dishrag',\n",
       "       'dishwasher', 'disk_brake', 'dock', 'dogsled', 'dome', 'doormat',\n",
       "       'drilling_platform', 'drum', 'drumstick', 'dumbbell', 'Dutch_oven',\n",
       "       'electric_fan', 'electric_guitar', 'electric_locomotive',\n",
       "       'entertainment_center', 'envelope', 'espresso_maker',\n",
       "       'face_powder', 'feather_boa', 'file', 'fireboat', 'fire_engine',\n",
       "       'fire_screen', 'flagpole', 'flute', 'folding_chair',\n",
       "       'football_helmet', 'forklift', 'fountain', 'fountain_pen',\n",
       "       'four-poster', 'freight_car', 'French_horn', 'frying_pan',\n",
       "       'fur_coat', 'garbage_truck', 'gasmask', 'gas_pump', 'goblet',\n",
       "       'go-kart', 'golf_ball', 'golfcart', 'gondola', 'gong', 'gown',\n",
       "       'grand_piano', 'greenhouse', 'grille', 'grocery_store',\n",
       "       'guillotine', 'hair_slide', 'hair_spray', 'half_track', 'hammer',\n",
       "       'hamper', 'hand_blower', 'hand-held_computer', 'handkerchief',\n",
       "       'hard_disc', 'harmonica', 'harp', 'harvester', 'hatchet',\n",
       "       'holster', 'home_theater', 'honeycomb', 'hook', 'hoopskirt',\n",
       "       'horizontal_bar', 'horse_cart', 'hourglass', 'iPod', 'iron',\n",
       "       \"jack-o'-lantern\", 'jean', 'jeep', 'jersey', 'jigsaw_puzzle',\n",
       "       'jinrikisha', 'joystick', 'kimono', 'knee_pad', 'knot', 'lab_coat',\n",
       "       'ladle', 'lampshade', 'laptop', 'lawn_mower', 'lens_cap',\n",
       "       'letter_opener', 'library', 'lifeboat', 'lighter', 'limousine',\n",
       "       'liner', 'lipstick', 'Loafer', 'lotion', 'loudspeaker', 'loupe',\n",
       "       'lumbermill', 'magnetic_compass', 'mailbag', 'mailbox', 'maillot',\n",
       "       'maillot', 'manhole_cover', 'maraca', 'marimba', 'mask',\n",
       "       'matchstick', 'maypole', 'maze', 'measuring_cup', 'medicine_chest',\n",
       "       'megalith', 'microphone', 'microwave', 'military_uniform',\n",
       "       'milk_can', 'minibus', 'miniskirt', 'minivan', 'missile', 'mitten',\n",
       "       'mixing_bowl', 'mobile_home', 'Model_T', 'modem', 'monastery',\n",
       "       'monitor', 'moped', 'mortar', 'mortarboard', 'mosque',\n",
       "       'mosquito_net', 'motor_scooter', 'mountain_bike', 'mountain_tent',\n",
       "       'mouse', 'mousetrap', 'moving_van', 'muzzle', 'nail', 'neck_brace',\n",
       "       'necklace', 'nipple', 'notebook', 'obelisk', 'oboe', 'ocarina',\n",
       "       'odometer', 'oil_filter', 'organ', 'oscilloscope', 'overskirt',\n",
       "       'oxcart', 'oxygen_mask', 'packet', 'paddle', 'paddlewheel',\n",
       "       'padlock', 'paintbrush', 'pajama', 'palace', 'panpipe',\n",
       "       'paper_towel', 'parachute', 'parallel_bars', 'park_bench',\n",
       "       'parking_meter', 'passenger_car', 'patio', 'pay-phone', 'pedestal',\n",
       "       'pencil_box', 'pencil_sharpener', 'perfume', 'Petri_dish',\n",
       "       'photocopier', 'pick', 'pickelhaube', 'picket_fence', 'pickup',\n",
       "       'pier', 'piggy_bank', 'pill_bottle', 'pillow', 'ping-pong_ball',\n",
       "       'pinwheel', 'pirate', 'pitcher', 'plane', 'planetarium',\n",
       "       'plastic_bag', 'plate_rack', 'plow', 'plunger', 'Polaroid_camera',\n",
       "       'pole', 'police_van', 'poncho', 'pool_table', 'pop_bottle', 'pot',\n",
       "       \"potter's_wheel\", 'power_drill', 'prayer_rug', 'printer', 'prison',\n",
       "       'projectile', 'projector', 'puck', 'punching_bag', 'purse',\n",
       "       'quill', 'quilt', 'racer', 'racket', 'radiator', 'radio',\n",
       "       'radio_telescope', 'rain_barrel', 'recreational_vehicle', 'reel',\n",
       "       'reflex_camera', 'refrigerator', 'remote_control', 'restaurant',\n",
       "       'revolver', 'rifle', 'rocking_chair', 'rotisserie',\n",
       "       'rubber_eraser', 'rugby_ball', 'rule', 'running_shoe', 'safe',\n",
       "       'safety_pin', 'saltshaker', 'sandal', 'sarong', 'sax', 'scabbard',\n",
       "       'scale', 'school_bus', 'schooner', 'scoreboard', 'screen', 'screw',\n",
       "       'screwdriver', 'seat_belt', 'sewing_machine', 'shield',\n",
       "       'shoe_shop', 'shoji', 'shopping_basket', 'shopping_cart', 'shovel',\n",
       "       'shower_cap', 'shower_curtain', 'ski', 'ski_mask', 'sleeping_bag',\n",
       "       'slide_rule', 'sliding_door', 'slot', 'snorkel', 'snowmobile',\n",
       "       'snowplow', 'soap_dispenser', 'soccer_ball', 'sock', 'solar_dish',\n",
       "       'sombrero', 'soup_bowl', 'space_bar', 'space_heater',\n",
       "       'space_shuttle', 'spatula', 'speedboat', 'spider_web', 'spindle',\n",
       "       'sports_car', 'spotlight', 'stage', 'steam_locomotive',\n",
       "       'steel_arch_bridge', 'steel_drum', 'stethoscope', 'stole',\n",
       "       'stone_wall', 'stopwatch', 'stove', 'strainer', 'streetcar',\n",
       "       'stretcher', 'studio_couch', 'stupa', 'submarine', 'suit',\n",
       "       'sundial', 'sunglass', 'sunglasses', 'sunscreen',\n",
       "       'suspension_bridge', 'swab', 'sweatshirt', 'swimming_trunks',\n",
       "       'swing', 'switch', 'syringe', 'table_lamp', 'tank', 'tape_player',\n",
       "       'teapot', 'teddy', 'television', 'tennis_ball', 'thatch',\n",
       "       'theater_curtain', 'thimble', 'thresher', 'throne', 'tile_roof',\n",
       "       'toaster', 'tobacco_shop', 'toilet_seat', 'torch', 'totem_pole',\n",
       "       'tow_truck', 'toyshop', 'tractor', 'trailer_truck', 'tray',\n",
       "       'trench_coat', 'tricycle', 'trimaran', 'tripod', 'triumphal_arch',\n",
       "       'trolleybus', 'trombone', 'tub', 'turnstile',\n",
       "       'typewriter_keyboard', 'umbrella', 'unicycle', 'upright', 'vacuum',\n",
       "       'vase', 'vault', 'velvet', 'vending_machine', 'vestment',\n",
       "       'viaduct', 'violin', 'volleyball', 'waffle_iron', 'wall_clock',\n",
       "       'wallet', 'wardrobe', 'warplane', 'washbasin', 'washer',\n",
       "       'water_bottle', 'water_jug', 'water_tower', 'whiskey_jug',\n",
       "       'whistle', 'wig', 'window_screen', 'window_shade', 'Windsor_tie',\n",
       "       'wine_bottle', 'wing', 'wok', 'wooden_spoon', 'wool', 'worm_fence',\n",
       "       'wreck', 'yawl', 'yurt', 'web_site', 'comic_book',\n",
       "       'crossword_puzzle', 'street_sign', 'traffic_light', 'book_jacket',\n",
       "       'menu', 'plate', 'guacamole', 'consomme', 'hot_pot', 'trifle',\n",
       "       'ice_cream', 'ice_lolly', 'French_loaf', 'bagel', 'pretzel',\n",
       "       'cheeseburger', 'hotdog', 'mashed_potato', 'head_cabbage',\n",
       "       'broccoli', 'cauliflower', 'zucchini', 'spaghetti_squash',\n",
       "       'acorn_squash', 'butternut_squash', 'cucumber', 'artichoke',\n",
       "       'bell_pepper', 'cardoon', 'mushroom', 'Granny_Smith', 'strawberry',\n",
       "       'orange', 'lemon', 'fig', 'pineapple', 'banana', 'jackfruit',\n",
       "       'custard_apple', 'pomegranate', 'hay', 'carbonara',\n",
       "       'chocolate_sauce', 'dough', 'meat_loaf', 'pizza', 'potpie',\n",
       "       'burrito', 'red_wine', 'espresso', 'cup', 'eggnog', 'alp',\n",
       "       'bubble', 'cliff', 'coral_reef', 'geyser', 'lakeside',\n",
       "       'promontory', 'sandbar', 'seashore', 'valley', 'volcano',\n",
       "       'ballplayer', 'groom', 'scuba_diver', 'rapeseed', 'daisy',\n",
       "       \"yellow_lady's_slipper\", 'corn', 'acorn', 'hip', 'buckeye',\n",
       "       'coral_fungus', 'agaric', 'gyromitra', 'stinkhorn', 'earthstar',\n",
       "       'hen-of-the-woods', 'bolete', 'ear', 'toilet_tissue'], dtype=object)"
      ]
     },
     "execution_count": 126,
     "metadata": {},
     "output_type": "execute_result"
    }
   ],
   "source": []
  },
  {
   "cell_type": "code",
   "execution_count": 96,
   "id": "60d81c32-f241-495f-852c-76069136163d",
   "metadata": {},
   "outputs": [],
   "source": [
    "a=sae(torch.tensor(data1).to(device)-torch.tensor(data2).to(device))[1]"
   ]
  },
  {
   "cell_type": "code",
   "execution_count": null,
   "id": "12a2890e-e134-4d00-a1ff-5bfd26d23f15",
   "metadata": {},
   "outputs": [],
   "source": [
    "data1-d"
   ]
  },
  {
   "cell_type": "code",
   "execution_count": 91,
   "id": "043eb8c0-7d81-471a-b874-83af01fef201",
   "metadata": {},
   "outputs": [
    {
     "data": {
      "text/plain": [
       "tensor([ 4239, 31744], device='cuda:0')"
      ]
     },
     "execution_count": 91,
     "metadata": {},
     "output_type": "execute_result"
    }
   ],
   "source": [
    "torch.unique(torch.nonzero(a)[:,1])"
   ]
  },
  {
   "cell_type": "code",
   "execution_count": 92,
   "id": "9f3e2236-7700-4fb3-b3cd-e5880ce955e6",
   "metadata": {},
   "outputs": [
    {
     "data": {
      "text/plain": [
       "tensor([ 4239, 31744], device='cuda:0')"
      ]
     },
     "execution_count": 92,
     "metadata": {},
     "output_type": "execute_result"
    }
   ],
   "source": [
    "torch.unique(torch.nonzero(b)[:,1])"
   ]
  },
  {
   "cell_type": "code",
   "execution_count": 76,
   "id": "58314140-e3ca-4f20-a2d6-48b710956a27",
   "metadata": {},
   "outputs": [
    {
     "data": {
      "text/plain": [
       "tensor([[    0,  4239],\n",
       "        [    1,  4239],\n",
       "        [    1, 31744],\n",
       "        ...,\n",
       "        [  497,  4239],\n",
       "        [  498,  4239],\n",
       "        [  499,  4239]], device='cuda:0')"
      ]
     },
     "execution_count": 76,
     "metadata": {},
     "output_type": "execute_result"
    }
   ],
   "source": [
    "torch.nonzero(b)"
   ]
  },
  {
   "cell_type": "code",
   "execution_count": 45,
   "id": "c394a816-4163-4fb6-aa18-1eef5642fae7",
   "metadata": {},
   "outputs": [
    {
     "data": {
      "text/plain": [
       "(500, 4096)"
      ]
     },
     "execution_count": 45,
     "metadata": {},
     "output_type": "execute_result"
    }
   ],
   "source": [
    "data1.shape"
   ]
  },
  {
   "cell_type": "code",
   "execution_count": 36,
   "id": "a8535954-523e-4a34-a56d-a99de72e9d01",
   "metadata": {},
   "outputs": [
    {
     "data": {
      "text/plain": [
       "tensor(2.6710, device='cuda:0', grad_fn=<DivBackward0>)"
      ]
     },
     "execution_count": 36,
     "metadata": {},
     "output_type": "execute_result"
    }
   ],
   "source": [
    "torch.mean((sae(data1.to(device))[0]-data1)**2)/torch.mean((data1**2))"
   ]
  },
  {
   "cell_type": "code",
   "execution_count": 46,
   "id": "14ff992a-f67e-4cf0-8a04-898f6d4c07ca",
   "metadata": {},
   "outputs": [],
   "source": [
    "negative_labels = np.zeros((500, 1))\n",
    "positive_labels = np.ones((500, 1))\n",
    "\n",
    "X = np.vstack((data1, data2))\n",
    "y = np.vstack((negative_labels, positive_labels))\n",
    "\n",
    "X = torch.tensor(X, dtype=torch.float32).to(device)\n",
    "y = torch.tensor(y, dtype=torch.float32).to(device)\n",
    "\n",
    "X_train, X_test, y_train, y_test = train_test_split(X, y, test_size=0.2, random_state=42)\n",
    "    \n",
    "    \n",
    "        "
   ]
  },
  {
   "cell_type": "code",
   "execution_count": 49,
   "id": "8b9f180f-5d0f-49b4-b8cb-1dc841ff1e84",
   "metadata": {},
   "outputs": [
    {
     "name": "stderr",
     "output_type": "stream",
     "text": [
      "Epoch [939/1000], Loss: 0.0000:  94%|███████▌| 938/1000 [03:05<00:12,  5.05it/s]\n"
     ]
    },
    {
     "ename": "KeyboardInterrupt",
     "evalue": "",
     "output_type": "error",
     "traceback": [
      "\u001b[0;31m---------------------------------------------------------------------------\u001b[0m",
      "\u001b[0;31mKeyboardInterrupt\u001b[0m                         Traceback (most recent call last)",
      "Cell \u001b[0;32mIn[49], line 27\u001b[0m\n\u001b[1;32m     25\u001b[0m batch_x, batch_y \u001b[38;5;241m=\u001b[39m X_train[indices], y_train[indices]\n\u001b[1;32m     26\u001b[0m u \u001b[38;5;241m=\u001b[39m torch\u001b[38;5;241m.\u001b[39mclip(torch\u001b[38;5;241m.\u001b[39mrand(\u001b[38;5;241m4096\u001b[39m,device\u001b[38;5;241m=\u001b[39mdevice, requires_grad\u001b[38;5;241m=\u001b[39m\u001b[38;5;28;01mTrue\u001b[39;00m),\u001b[38;5;241m0.0001\u001b[39m,\u001b[38;5;241m0.9999\u001b[39m)\n\u001b[0;32m---> 27\u001b[0m s \u001b[38;5;241m=\u001b[39m torch\u001b[38;5;241m.\u001b[39msigmoid(reciptemp\u001b[38;5;241m*\u001b[39m(\u001b[43m(\u001b[49m\u001b[43mu\u001b[49m\u001b[38;5;241;43m/\u001b[39;49m\u001b[43m(\u001b[49m\u001b[38;5;241;43m1\u001b[39;49m\u001b[38;5;241;43m-\u001b[39;49m\u001b[43mu\u001b[49m\u001b[43m)\u001b[49m\u001b[43m)\u001b[49m\u001b[38;5;241;43m.\u001b[39;49m\u001b[43mlog\u001b[49m\u001b[43m(\u001b[49m\u001b[43m)\u001b[49m \u001b[38;5;241m+\u001b[39m mask))\n\u001b[1;32m     28\u001b[0m z \u001b[38;5;241m=\u001b[39m torch\u001b[38;5;241m.\u001b[39mclip(s\u001b[38;5;241m*\u001b[39m(\u001b[38;5;241m1.2\u001b[39m)\u001b[38;5;241m-\u001b[39m\u001b[38;5;241m0.1\u001b[39m,\u001b[38;5;241m0\u001b[39m,\u001b[38;5;241m1\u001b[39m)\n\u001b[1;32m     29\u001b[0m \u001b[38;5;66;03m# Forward pass\u001b[39;00m\n",
      "\u001b[0;31mKeyboardInterrupt\u001b[0m: "
     ]
    }
   ],
   "source": [
    "class SimpleLinearModel(nn.Module):\n",
    "    def __init__(self, input_dim):\n",
    "        super(SimpleLinearModel, self).__init__()\n",
    "        self.linear = nn.Linear(input_dim, 1)\n",
    "    \n",
    "    def forward(self, x):\n",
    "        return torch.sigmoid(self.linear(x))\n",
    "    \n",
    "    \n",
    "input_dim = X_train.shape[1]\n",
    "linear_model = SimpleLinearModel(input_dim).to(device)\n",
    "reciptemp =1.5\n",
    "mask = torch.zeros(4096, requires_grad=True,device=device)\n",
    "criterion = nn.BCELoss()\n",
    "optimizer = optim.Adam(list(linear_model.parameters())+[mask], lr=0.001)\n",
    "\n",
    "num_epochs = 1000\n",
    "batch_size = 32\n",
    "pbar = tqdm(range(num_epochs))\n",
    "for epoch in pbar:\n",
    "    permutation = torch.randperm(X_train.size()[0])\n",
    "\n",
    "    for i in range(0, X_train.size()[0], batch_size):\n",
    "        indices = permutation[i:i + batch_size]\n",
    "        batch_x, batch_y = X_train[indices], y_train[indices]\n",
    "        u = torch.clip(torch.rand(4096,device=device, requires_grad=True),0.0001,0.9999)\n",
    "        s = torch.sigmoid(reciptemp*((u/(1-u)).log() + mask))\n",
    "        z = torch.clip(s*(1.2)-0.1,0,1)\n",
    "        # Forward pass\n",
    "        batch_x = batch_x*z\n",
    "        outputs = linear_model(batch_x)\n",
    "        loss = criterion(outputs, batch_y) #+ lamb*torch.sum(torch.sigmoid(mask-np.log(0.1 / 1.1)/reciptemp))\n",
    "        \n",
    "        # Backward and optimize\n",
    "        optimizer.zero_grad()\n",
    "        loss.backward()\n",
    "        optimizer.step()\n",
    "        pbar.set_description(f'Epoch [{epoch+1}/{num_epochs}], Loss: {loss.item():.4f}')\n",
    "\n",
    "u = torch.clip(torch.rand(4096*8,device=device, requires_grad=True),0.0001,0.9999)\n",
    "s = torch.sigmoid(reciptemp*((u/(1-u)).log() + mask))\n",
    "z = 1.0*(torch.clip(s*(1.2)-0.1,0,1)>0.5).unsqueeze(0)\n",
    "linear_model.linear.weight.data *= z\n",
    "\n",
    "\n",
    "with torch.no_grad():\n",
    "    y_pred = linear_model(X_test)\n",
    "    y_pred = torch.round(y_pred)\n",
    "    accuracy = accuracy_score(y_test.cpu(), y_pred.cpu())  # Move to CPU for accuracy calculation\n",
    "    print(f\"Test accuracy on : {accuracy:.4f}\")\n",
    "#TODO: save model\n",
    "#torch.save(linear_model.state_dict(), 'probes/lambda_'+str(gpu_index)+'/'+classes[index]+'_linear_classifier.pt')"
   ]
  },
  {
   "cell_type": "code",
   "execution_count": 15,
   "id": "2759bf4f-c1c5-459d-be0d-5f5181be408b",
   "metadata": {},
   "outputs": [
    {
     "data": {
      "text/plain": [
       "tensor([[0., 0., 0.,  ..., 0., 0., 0.],\n",
       "        [0., 0., 0.,  ..., 0., 0., 0.],\n",
       "        [0., 0., 0.,  ..., 0., 0., 0.],\n",
       "        ...,\n",
       "        [0., 0., 0.,  ..., 0., 0., 0.],\n",
       "        [0., 0., 0.,  ..., 0., 0., 0.],\n",
       "        [0., 0., 0.,  ..., 0., 0., 0.]], device='cuda:0')"
      ]
     },
     "execution_count": 15,
     "metadata": {},
     "output_type": "execute_result"
    }
   ],
   "source": [
    "X_train"
   ]
  },
  {
   "cell_type": "code",
   "execution_count": 97,
   "id": "28dc4e10-5b04-47a1-b8fa-4ae5e88f1f4b",
   "metadata": {},
   "outputs": [],
   "source": [
    "import pandas as pd"
   ]
  },
  {
   "cell_type": "code",
   "execution_count": 108,
   "id": "24a43df8-27a2-4b9f-b807-01630446d2dc",
   "metadata": {},
   "outputs": [],
   "source": [
    "df = pd.read_csv(\"Processed_Dataset_with_Distractors.csv\")"
   ]
  },
  {
   "cell_type": "code",
   "execution_count": 106,
   "id": "c5943623-7591-480c-bf5b-eba4a6a40714",
   "metadata": {},
   "outputs": [],
   "source": [
    "pd.set_option('display.max_columns', None)  # Show all columns\n",
    "pd.set_option('display.max_rows', None) "
   ]
  },
  {
   "cell_type": "code",
   "execution_count": 109,
   "id": "2f0786a0-1bf0-474f-a1e4-ae598f6b2fd7",
   "metadata": {},
   "outputs": [
    {
     "data": {
      "text/html": [
       "<div>\n",
       "<style scoped>\n",
       "    .dataframe tbody tr th:only-of-type {\n",
       "        vertical-align: middle;\n",
       "    }\n",
       "\n",
       "    .dataframe tbody tr th {\n",
       "        vertical-align: top;\n",
       "    }\n",
       "\n",
       "    .dataframe thead th {\n",
       "        text-align: right;\n",
       "    }\n",
       "</style>\n",
       "<table border=\"1\" class=\"dataframe\">\n",
       "  <thead>\n",
       "    <tr style=\"text-align: right;\">\n",
       "      <th></th>\n",
       "      <th>questions</th>\n",
       "      <th>answers</th>\n",
       "      <th>og_class</th>\n",
       "      <th>target_class</th>\n",
       "      <th>coherence_score</th>\n",
       "      <th>steering_score</th>\n",
       "      <th>distractor1</th>\n",
       "      <th>distractor2</th>\n",
       "    </tr>\n",
       "  </thead>\n",
       "  <tbody>\n",
       "    <tr>\n",
       "      <th>0</th>\n",
       "      <td>In what environment or setting would you most ...</td>\n",
       "      <td>...</td>\n",
       "      <td>ox</td>\n",
       "      <td>castle</td>\n",
       "      <td>0.00</td>\n",
       "      <td>0.0</td>\n",
       "      <td>screen</td>\n",
       "      <td>stove</td>\n",
       "    </tr>\n",
       "    <tr>\n",
       "      <th>1</th>\n",
       "      <td>Describe this image in detail.</td>\n",
       "      <td>1. The image is a black and white photograph....</td>\n",
       "      <td>prison</td>\n",
       "      <td>dough</td>\n",
       "      <td>0.75</td>\n",
       "      <td>0.0</td>\n",
       "      <td>printer</td>\n",
       "      <td>cricket</td>\n",
       "    </tr>\n",
       "    <tr>\n",
       "      <th>2</th>\n",
       "      <td>Is this image related in any way to the concep...</td>\n",
       "      <td>...</td>\n",
       "      <td>notebook</td>\n",
       "      <td>ski</td>\n",
       "      <td>0.00</td>\n",
       "      <td>0.0</td>\n",
       "      <td>desk</td>\n",
       "      <td>chest</td>\n",
       "    </tr>\n",
       "    <tr>\n",
       "      <th>3</th>\n",
       "      <td>Describe the primary purpose or function of th...</td>\n",
       "      <td>...</td>\n",
       "      <td>throne</td>\n",
       "      <td>torch</td>\n",
       "      <td>0.00</td>\n",
       "      <td>0.0</td>\n",
       "      <td>rule</td>\n",
       "      <td>iron</td>\n",
       "    </tr>\n",
       "    <tr>\n",
       "      <th>4</th>\n",
       "      <td>How large is the main subject of this image ty...</td>\n",
       "      <td>\\n\\nQuestion: How large is the main subject o...</td>\n",
       "      <td>stove</td>\n",
       "      <td>fig</td>\n",
       "      <td>1.00</td>\n",
       "      <td>0.0</td>\n",
       "      <td>pole</td>\n",
       "      <td>candle</td>\n",
       "    </tr>\n",
       "  </tbody>\n",
       "</table>\n",
       "</div>"
      ],
      "text/plain": [
       "                                           questions  \\\n",
       "0  In what environment or setting would you most ...   \n",
       "1                    Describe this image in detail.    \n",
       "2  Is this image related in any way to the concep...   \n",
       "3  Describe the primary purpose or function of th...   \n",
       "4  How large is the main subject of this image ty...   \n",
       "\n",
       "                                             answers  og_class target_class  \\\n",
       "0                                                ...        ox       castle   \n",
       "1   1. The image is a black and white photograph....    prison        dough   \n",
       "2                                                ...  notebook          ski   \n",
       "3                                                ...    throne        torch   \n",
       "4   \\n\\nQuestion: How large is the main subject o...     stove          fig   \n",
       "\n",
       "   coherence_score  steering_score distractor1 distractor2  \n",
       "0             0.00             0.0      screen       stove  \n",
       "1             0.75             0.0     printer     cricket  \n",
       "2             0.00             0.0        desk       chest  \n",
       "3             0.00             0.0        rule        iron  \n",
       "4             1.00             0.0        pole      candle  "
      ]
     },
     "execution_count": 109,
     "metadata": {},
     "output_type": "execute_result"
    }
   ],
   "source": [
    "df.head()"
   ]
  },
  {
   "cell_type": "code",
   "execution_count": 117,
   "id": "715d1724-2e5d-4fb1-b63e-03f5e02a34be",
   "metadata": {},
   "outputs": [
    {
     "data": {
      "text/plain": [
       "8316"
      ]
     },
     "execution_count": 117,
     "metadata": {},
     "output_type": "execute_result"
    }
   ],
   "source": []
  },
  {
   "cell_type": "code",
   "execution_count": 122,
   "id": "ac6edbe9-54ab-438d-84c4-4512f926c363",
   "metadata": {},
   "outputs": [
    {
     "name": "stdout",
     "output_type": "stream",
     "text": [
      "15739\n",
      "361\n",
      "877\n",
      "487\n",
      "20493\n"
     ]
    }
   ],
   "source": [
    "print(len(df[df['steering_score']==1.0]))\n",
    "print(len(df[df['steering_score']==0.75]))\n",
    "print(len(df[df['steering_score']==0.5]))\n",
    "print(len(df[df['steering_score']==0.25]))\n",
    "print(len(df[df['steering_score']==0.0]))"
   ]
  },
  {
   "cell_type": "code",
   "execution_count": 119,
   "id": "f611e150-c1fe-43cd-ae1f-d2152e70c167",
   "metadata": {},
   "outputs": [
    {
     "data": {
      "text/plain": [
       "1657"
      ]
     },
     "execution_count": 119,
     "metadata": {},
     "output_type": "execute_result"
    }
   ],
   "source": []
  },
  {
   "cell_type": "code",
   "execution_count": 120,
   "id": "2ee772f3-70fb-40d8-8c70-8668382708f0",
   "metadata": {},
   "outputs": [
    {
     "data": {
      "text/plain": [
       "2020"
      ]
     },
     "execution_count": 120,
     "metadata": {},
     "output_type": "execute_result"
    }
   ],
   "source": []
  },
  {
   "cell_type": "code",
   "execution_count": 121,
   "id": "bde67f58-fe0b-48e0-b58b-4a4e42ef1f14",
   "metadata": {},
   "outputs": [
    {
     "data": {
      "text/plain": [
       "15253"
      ]
     },
     "execution_count": 121,
     "metadata": {},
     "output_type": "execute_result"
    }
   ],
   "source": []
  },
  {
   "cell_type": "code",
   "execution_count": null,
   "id": "98a847e2-22b4-48ed-b07b-411268bedb50",
   "metadata": {},
   "outputs": [],
   "source": []
  }
 ],
 "metadata": {
  "kernelspec": {
   "display_name": "Python 3 (ipykernel)",
   "language": "python",
   "name": "python3"
  },
  "language_info": {
   "codemirror_mode": {
    "name": "ipython",
    "version": 3
   },
   "file_extension": ".py",
   "mimetype": "text/x-python",
   "name": "python",
   "nbconvert_exporter": "python",
   "pygments_lexer": "ipython3",
   "version": "3.10.12"
  }
 },
 "nbformat": 4,
 "nbformat_minor": 5
}
